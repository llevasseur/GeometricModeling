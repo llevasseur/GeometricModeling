{
 "cells": [
  {
   "cell_type": "code",
   "execution_count": 1,
   "metadata": {
    "scrolled": true
   },
   "outputs": [
    {
     "name": "stderr",
     "output_type": "stream",
     "text": [
      "In C:\\Users\\Leeovn\\Anaconda3\\lib\\site-packages\\matplotlib\\mpl-data\\stylelib\\_classic_test.mplstyle: \n",
      "The text.latex.unicode rcparam was deprecated in Matplotlib 3.0 and will be removed in 3.2.\n",
      "In C:\\Users\\Leeovn\\Anaconda3\\lib\\site-packages\\matplotlib\\mpl-data\\stylelib\\_classic_test.mplstyle: \n",
      "The savefig.frameon rcparam was deprecated in Matplotlib 3.1 and will be removed in 3.3.\n",
      "In C:\\Users\\Leeovn\\Anaconda3\\lib\\site-packages\\matplotlib\\mpl-data\\stylelib\\_classic_test.mplstyle: \n",
      "The pgf.debug rcparam was deprecated in Matplotlib 3.0 and will be removed in 3.2.\n",
      "In C:\\Users\\Leeovn\\Anaconda3\\lib\\site-packages\\matplotlib\\mpl-data\\stylelib\\_classic_test.mplstyle: \n",
      "The verbose.level rcparam was deprecated in Matplotlib 3.1 and will be removed in 3.3.\n",
      "In C:\\Users\\Leeovn\\Anaconda3\\lib\\site-packages\\matplotlib\\mpl-data\\stylelib\\_classic_test.mplstyle: \n",
      "The verbose.fileo rcparam was deprecated in Matplotlib 3.1 and will be removed in 3.3.\n"
     ]
    }
   ],
   "source": [
    "import numpy as np\n",
    "import igl\n",
    "import meshplot as mp\n",
    "import math as math\n",
    "import sympy as sp"
   ]
  },
  {
   "cell_type": "code",
   "execution_count": 2,
   "metadata": {
    "scrolled": true
   },
   "outputs": [],
   "source": [
    "# Utility function to generate a tet grid\n",
    "# n is a 3-tuple with the number of cell in every direction\n",
    "# mmin/mmax are the grid bounding box corners\n",
    "\n",
    "def tet_grid(n, mmin, mmax):\n",
    "    nx = n[0]\n",
    "    ny = n[1]\n",
    "    nz = n[2]\n",
    "    \n",
    "    delta = mmax-mmin\n",
    "    \n",
    "    deltax = delta[0]/(nx-1)\n",
    "    deltay = delta[1]/(ny-1)\n",
    "    deltaz = delta[2]/(nz-1)\n",
    "    \n",
    "    T = np.zeros(((nx-1)*(ny-1)*(nz-1)*6, 4), dtype=np.int64)\n",
    "    V = np.zeros((nx*ny*nz, 3))\n",
    "\n",
    "    mapping = -np.ones((nx, ny, nz), dtype=np.int64)\n",
    "\n",
    "    index = 0\n",
    "    for i in range(nx):\n",
    "        for j in range(ny):\n",
    "            for k in range(nz):\n",
    "                mapping[i, j, k] = index\n",
    "                V[index, :] = [i*deltax, j*deltay, k*deltaz]\n",
    "                index += 1\n",
    "    assert(index == V.shape[0])\n",
    "    \n",
    "    tets = np.array([\n",
    "        [0,1,3,4],\n",
    "        [5,2,6,7],\n",
    "        [4,1,5,3],\n",
    "        [4,3,7,5],\n",
    "        [3,1,5,2],\n",
    "        [2,3,7,5]\n",
    "    ])\n",
    "    \n",
    "    index = 0\n",
    "    for i in range(nx-1):\n",
    "        for j in range(ny-1):\n",
    "            for k in range(nz-1):\n",
    "                indices = [\n",
    "                    (i,   j,   k),\n",
    "                    (i+1, j,   k),\n",
    "                    (i+1, j+1, k),\n",
    "                    (i,   j+1, k),\n",
    "\n",
    "                    (i,   j,   k+1),\n",
    "                    (i+1, j,   k+1),\n",
    "                    (i+1, j+1, k+1),\n",
    "                    (i,   j+1, k+1),\n",
    "                ]\n",
    "                \n",
    "                for t in range(tets.shape[0]):\n",
    "                    tmp = [mapping[indices[ii]] for ii in tets[t, :]]\n",
    "                    T[index, :]=tmp\n",
    "                    index += 1\n",
    "                    \n",
    "    assert(index == T.shape[0])\n",
    "    \n",
    "    V += mmin\n",
    "    return V, T"
   ]
  },
  {
   "cell_type": "markdown",
   "metadata": {},
   "source": [
    "# Reading point cloud"
   ]
  },
  {
   "cell_type": "code",
   "execution_count": 3,
   "metadata": {
    "scrolled": false
   },
   "outputs": [
    {
     "data": {
      "application/vnd.jupyter.widget-view+json": {
       "model_id": "536df0a0ced3495fab841946c0d83ac1",
       "version_major": 2,
       "version_minor": 0
      },
      "text/plain": [
       "Renderer(camera=PerspectiveCamera(children=(DirectionalLight(color='white', intensity=0.6, position=(1.1287999…"
      ]
     },
     "metadata": {},
     "output_type": "display_data"
    },
    {
     "data": {
      "text/plain": [
       "<meshplot.Viewer.Viewer at 0x253c73765c0>"
      ]
     },
     "execution_count": 3,
     "metadata": {},
     "output_type": "execute_result"
    }
   ],
   "source": [
    "pi, v = igl.read_triangle_mesh(\"data/luigi.off\")\n",
    "pi /= 10\n",
    "ni = igl.per_vertex_normals(pi, v)\n",
    "mp.plot(pi, shading={\"point_size\": 0.5})"
   ]
  },
  {
   "cell_type": "code",
   "execution_count": 4,
   "metadata": {},
   "outputs": [
    {
     "data": {
      "application/vnd.jupyter.widget-view+json": {
       "model_id": "1691df8f2a9b4dac9af70372853013a4",
       "version_major": 2,
       "version_minor": 0
      },
      "text/plain": [
       "Renderer(camera=PerspectiveCamera(children=(DirectionalLight(color='white', intensity=0.6, position=(5.0, -23.…"
      ]
     },
     "metadata": {},
     "output_type": "display_data"
    },
    {
     "data": {
      "text/plain": [
       "<meshplot.Viewer.Viewer at 0x253caa9ec18>"
      ]
     },
     "execution_count": 4,
     "metadata": {},
     "output_type": "execute_result"
    }
   ],
   "source": [
    "pi, v = igl.read_triangle_mesh(\"data/cat.off\")\n",
    "pi /= 10\n",
    "ni = igl.per_vertex_normals(pi, v)\n",
    "mp.plot(pi, shading={\"point_size\": 8})"
   ]
  },
  {
   "cell_type": "code",
   "execution_count": 5,
   "metadata": {},
   "outputs": [
    {
     "data": {
      "text/plain": [
       "array([[  0. ,   0. ,   0. ],\n",
       "       [ -0.1,  -6. ,   1. ],\n",
       "       [ -4.4,  -3.4,  -1. ],\n",
       "       ...,\n",
       "       [ 26.4, -37.2, -96.2],\n",
       "       [ 26.2, -44.4, -96.1],\n",
       "       [ 24.8, -50.2, -96.4]])"
      ]
     },
     "execution_count": 5,
     "metadata": {},
     "output_type": "execute_result"
    }
   ],
   "source": [
    "pi"
   ]
  },
  {
   "cell_type": "markdown",
   "metadata": {},
   "source": [
    "# MLS function"
   ]
  },
  {
   "cell_type": "code",
   "execution_count": 6,
   "metadata": {
    "scrolled": true
   },
   "outputs": [],
   "source": [
    "# Parameters\n",
    "bbox_min = np.array([-1., -1., -1.])\n",
    "bbox_max = np.array([1., 1., 1.])\n",
    "bbox_diag = np.linalg.norm(bbox_max - bbox_min)\n",
    "\n",
    "n = 10"
   ]
  },
  {
   "cell_type": "code",
   "execution_count": 7,
   "metadata": {
    "scrolled": true
   },
   "outputs": [],
   "source": [
    "# Generate grid n x n x n\n",
    "\n",
    "x, T = tet_grid((n, n, n), bbox_min - 0.05 * bbox_diag, bbox_max + 0.05 * bbox_diag)\n",
    "\n",
    "#Compute implicit sphere function\n",
    "center = np.array([0., 0., 0.])\n",
    "radius = 1\n",
    "fx = np.linalg.norm(x-center, axis=1) - radius"
   ]
  },
  {
   "cell_type": "code",
   "execution_count": 8,
   "metadata": {
    "scrolled": false
   },
   "outputs": [
    {
     "data": {
      "application/vnd.jupyter.widget-view+json": {
       "model_id": "803911aa91f1431396b18e6814cb92f5",
       "version_major": 2,
       "version_minor": 0
      },
      "text/plain": [
       "Renderer(camera=PerspectiveCamera(children=(DirectionalLight(color='white', intensity=0.6, position=(0.0, 0.0,…"
      ]
     },
     "metadata": {},
     "output_type": "display_data"
    },
    {
     "data": {
      "text/plain": [
       "<meshplot.Viewer.Viewer at 0x253caa9ea20>"
      ]
     },
     "execution_count": 8,
     "metadata": {},
     "output_type": "execute_result"
    }
   ],
   "source": [
    "# Treshold fx to visualize inside outside\n",
    "\n",
    "ind = np.zeros_like(fx)\n",
    "ind[fx >= 0] = 1\n",
    "ind[fx < 0] = -1\n",
    "mp.plot(x, c=ind, shading={\"point_size\": 0.1,\"width\": 800, \"height\": 800})"
   ]
  },
  {
   "cell_type": "markdown",
   "metadata": {},
   "source": [
    "# Marching to extract surface"
   ]
  },
  {
   "cell_type": "code",
   "execution_count": 9,
   "metadata": {
    "scrolled": false
   },
   "outputs": [
    {
     "data": {
      "application/vnd.jupyter.widget-view+json": {
       "model_id": "bf8552133fa84f2495c6455a6d994b8f",
       "version_major": 2,
       "version_minor": 0
      },
      "text/plain": [
       "Renderer(camera=PerspectiveCamera(children=(DirectionalLight(color='white', intensity=0.6, position=(0.0, 0.0,…"
      ]
     },
     "metadata": {},
     "output_type": "display_data"
    },
    {
     "data": {
      "text/plain": [
       "<meshplot.Viewer.Viewer at 0x253caa9e940>"
      ]
     },
     "execution_count": 9,
     "metadata": {},
     "output_type": "execute_result"
    }
   ],
   "source": [
    "# Marcing tet to extract surface\n",
    "\n",
    "sv, sf, _, _ = igl.marching_tets(x, T, fx, 0)\n",
    "mp.plot(sv, sf, shading={\"wireframe\": True})"
   ]
  },
  {
   "cell_type": "markdown",
   "metadata": {},
   "source": [
    "# Setting up the Constraints"
   ]
  },
  {
   "cell_type": "code",
   "execution_count": 10,
   "metadata": {},
   "outputs": [],
   "source": [
    "#Calucalte the min and max for each point\n",
    "\n",
    "max_x, max_y, max_z = min_x, min_y, min_z = pi[0][0], pi[0][1], pi[0][2]\n",
    "\n",
    "for i in range(pi.shape[0]):\n",
    "    \n",
    "    if (pi[i][0] > max_x):\n",
    "        max_x = pi[i][0]\n",
    "    if (pi[i][0] < min_x):\n",
    "        min_x = pi[i][0]\n",
    "        \n",
    "    if (pi[i][1] > max_y):\n",
    "        max_y = pi[i][1]\n",
    "    if (pi[i][1] < min_y):\n",
    "        min_y = pi[i][1]\n",
    "    if (pi[i][2] > max_z):\n",
    "        max_z = pi[i][2]\n",
    "    if (pi[i][2] < min_z):\n",
    "        min_z = pi[i][2]\n",
    "# Add buffer\n",
    "max_x += 5\n",
    "min_x -= 5\n",
    "max_y += 5\n",
    "min_y -= 5\n",
    "max_z += 5\n",
    "min_z -= 20"
   ]
  },
  {
   "cell_type": "code",
   "execution_count": 11,
   "metadata": {},
   "outputs": [
    {
     "data": {
      "text/plain": [
       "(-27.7, -68.7, -119.0)"
      ]
     },
     "execution_count": 11,
     "metadata": {},
     "output_type": "execute_result"
    }
   ],
   "source": [
    "(min_x, min_y, min_z)"
   ]
  },
  {
   "cell_type": "code",
   "execution_count": 12,
   "metadata": {},
   "outputs": [
    {
     "data": {
      "text/plain": [
       "array([ -27.7,  -68.7, -119. ])"
      ]
     },
     "execution_count": 12,
     "metadata": {},
     "output_type": "execute_result"
    }
   ],
   "source": [
    "# Create a grid sampling the 3D space\n",
    "# Parameters\n",
    "bbox_min = np.array([min_x, min_y, min_z])\n",
    "bbox_max = np.array([max_x, max_y, max_z])\n",
    "bbox_diag = np.linalg.norm(bbox_max - bbox_min)\n",
    "eps = 0.01 * bbox_diag;\n",
    "bbox_min"
   ]
  },
  {
   "cell_type": "code",
   "execution_count": 13,
   "metadata": {},
   "outputs": [
    {
     "data": {
      "text/plain": [
       "(array([[  0. ,   0. ,   0. ],\n",
       "        [ -0.1,  -6. ,   1. ],\n",
       "        [ -4.4,  -3.4,  -1. ],\n",
       "        ...,\n",
       "        [ 26.4, -37.2, -96.2],\n",
       "        [ 26.2, -44.4, -96.1],\n",
       "        [ 24.8, -50.2, -96.4]]), (366, 3))"
      ]
     },
     "execution_count": 13,
     "metadata": {},
     "output_type": "execute_result"
    }
   ],
   "source": [
    "pi = pi.copy()\n",
    "ni = ni.copy()\n",
    "eps = 0.005 * bbox_diag;\n",
    "pi, pi.shape"
   ]
  },
  {
   "cell_type": "code",
   "execution_count": 14,
   "metadata": {},
   "outputs": [
    {
     "data": {
      "text/plain": [
       "171.164715990183"
      ]
     },
     "execution_count": 14,
     "metadata": {},
     "output_type": "execute_result"
    }
   ],
   "source": [
    "bbox_diag"
   ]
  },
  {
   "cell_type": "code",
   "execution_count": 15,
   "metadata": {},
   "outputs": [
    {
     "data": {
      "text/plain": [
       "0.855823579950915"
      ]
     },
     "execution_count": 15,
     "metadata": {},
     "output_type": "execute_result"
    }
   ],
   "source": [
    "eps"
   ]
  },
  {
   "cell_type": "code",
   "execution_count": 16,
   "metadata": {
    "scrolled": true
   },
   "outputs": [],
   "source": [
    "def find_closest_point(point, points):\n",
    "    '''Retreives the index of the closest point in points'''\n",
    "    index = -1;\n",
    "    min_dist = 0;\n",
    "\n",
    "    for i in range (points.shape[0]):\n",
    "        if ((points[i] == point).all()):\n",
    "            continue\n",
    "        \n",
    "        dist = np.linalg.norm(point-points[i]);\n",
    "        if (min_dist == 0 or dist < min_dist):\n",
    "            min_dist = dist\n",
    "            index = i\n",
    "    \n",
    "    assert(index != -1)\n",
    "    return index;"
   ]
  },
  {
   "cell_type": "code",
   "execution_count": 17,
   "metadata": {},
   "outputs": [
    {
     "data": {
      "text/plain": [
       "6"
      ]
     },
     "execution_count": 17,
     "metadata": {},
     "output_type": "execute_result"
    }
   ],
   "source": [
    "# Test, solution should be 6\n",
    "points = np.zeros((10, 3))\n",
    "for i in range (points.shape[0]):\n",
    "    points[i] = [4 - i, 3 * i, i]\n",
    "points[1] = [50, 3, 1]\n",
    "points[6] = [3, 0, 1]\n",
    "points\n",
    "find_closest_point(points[0], points)"
   ]
  },
  {
   "cell_type": "code",
   "execution_count": 18,
   "metadata": {},
   "outputs": [],
   "source": [
    "def find_eps(index, point, normal, points, eps, plus=True):\n",
    "    # return pi_plus if plus= True, else return pi_minus\n",
    "    #print(\"test\")\n",
    "    if (plus):\n",
    "        pi_eps = np.array([point + eps * normal])\n",
    "    else:\n",
    "        pi_eps = np.array([point - eps * normal])\n",
    "    \n",
    "    tmp_pi = np.concatenate((points, pi_eps))\n",
    "    if (index == find_closest_point(tmp_pi[pi.shape[0]], tmp_pi)):\n",
    "        return (pi_eps, eps)\n",
    "    return (find_eps(index, point, normal, points, eps/2.0, plus))"
   ]
  },
  {
   "cell_type": "code",
   "execution_count": null,
   "metadata": {},
   "outputs": [],
   "source": []
  },
  {
   "cell_type": "code",
   "execution_count": 19,
   "metadata": {},
   "outputs": [],
   "source": [
    "# For each point pi in the point cloud, add a constraint of the form f(pi) = di = 0\n",
    "# Fix an eps value, for instance eps = 0.01 * bounding_box_diagonal\n",
    "# For each point pi compute pi+ = pi + eps * ni, where ni is the normalized normal of pi. \n",
    "# Check that pi is the closest point to pi+, if not, halve esp and recompute pi+ until this is the case. Then, add another constraint\n",
    "# equation: f(pi+) = eps\n",
    "# Repeat this same process for -eps,\n",
    "# Final result is a unqiue vector or pi, pi+, and pi- to p and corresponding f\n",
    "p = np.zeros((pi.shape[0] * 3, 3))\n",
    "f = np.zeros(pi.shape[0]*3)\n",
    "color = np.zeros((pi.shape[0]*3, 3))\n",
    "\n",
    "for i in range(pi.shape[0]):\n",
    "    p[3*i] = pi[i]\n",
    "    f[3*i] = 0\n",
    "    color[3*i] = [0.0, 0.0, 1.0]\n",
    "    \n",
    "    pi_plus, found_eps = find_eps(i, pi[i], ni[i], pi, eps, True)\n",
    "    p[3*i + 1] = pi_plus\n",
    "    f[3*i + 1] = found_eps\n",
    "    color[3*i + 1] = [1.0, 0.0, 0.0]\n",
    "        \n",
    "    pi_minus, found_eps = find_eps(i, pi[i], ni[i], pi, eps, False)\n",
    "    p[3*i + 2] = pi_minus\n",
    "    f[3*i + 2] = -found_eps\n",
    "    color[3*i + 2] = [0.0, 1.0, 0.0]"
   ]
  },
  {
   "cell_type": "code",
   "execution_count": 20,
   "metadata": {},
   "outputs": [
    {
     "data": {
      "application/vnd.jupyter.widget-view+json": {
       "model_id": "45048e1ee12a4fb4b45cedc36064fa5c",
       "version_major": 2,
       "version_minor": 0
      },
      "text/plain": [
       "Renderer(camera=PerspectiveCamera(children=(DirectionalLight(color='white', intensity=0.6, position=(5.0072269…"
      ]
     },
     "metadata": {},
     "output_type": "display_data"
    },
    {
     "data": {
      "text/plain": [
       "<meshplot.Viewer.Viewer at 0x253cab35470>"
      ]
     },
     "execution_count": 20,
     "metadata": {},
     "output_type": "execute_result"
    }
   ],
   "source": [
    "mp.plot(p, c=color, shading={\"point_size\": 8})"
   ]
  },
  {
   "cell_type": "markdown",
   "metadata": {},
   "source": [
    "# Use MLS interpolation to extend to function f"
   ]
  },
  {
   "cell_type": "code",
   "execution_count": 21,
   "metadata": {},
   "outputs": [],
   "source": [
    "n = 25"
   ]
  },
  {
   "cell_type": "code",
   "execution_count": 22,
   "metadata": {},
   "outputs": [],
   "source": [
    "# Generate grid n x n x n\n",
    "\n",
    "x, T = tet_grid((n, n, n), bbox_min - 0.05 * bbox_diag, bbox_max + 0.05 * bbox_diag)"
   ]
  },
  {
   "cell_type": "code",
   "execution_count": 23,
   "metadata": {},
   "outputs": [
    {
     "data": {
      "text/plain": [
       "array([[ -36.2582358 ,  -77.2582358 , -127.5582358 ],\n",
       "       [ -36.2582358 ,  -77.2582358 , -121.43671615],\n",
       "       [ -36.2582358 ,  -77.2582358 , -115.3151965 ],\n",
       "       ...,\n",
       "       [  46.2582358 ,   30.2582358 ,    7.1151965 ],\n",
       "       [  46.2582358 ,   30.2582358 ,   13.23671615],\n",
       "       [  46.2582358 ,   30.2582358 ,   19.3582358 ]])"
      ]
     },
     "execution_count": 23,
     "metadata": {},
     "output_type": "execute_result"
    }
   ],
   "source": [
    "x"
   ]
  },
  {
   "cell_type": "code",
   "execution_count": 24,
   "metadata": {},
   "outputs": [
    {
     "data": {
      "text/plain": [
       "(array([[ 0,  3,  6,  9],\n",
       "        [ 1,  4,  7, 10],\n",
       "        [ 2,  5,  8, 11]]), (3, 4))"
      ]
     },
     "execution_count": 24,
     "metadata": {},
     "output_type": "execute_result"
    }
   ],
   "source": [
    "A = np.array([[0,1,2], [3,4,5], [6,7,8], [9,10,11]])\n",
    "A_T = np.transpose(A)\n",
    "A_T, A_T.shape"
   ]
  },
  {
   "cell_type": "code",
   "execution_count": 25,
   "metadata": {},
   "outputs": [],
   "source": [
    "def closest_points(point, points, h):\n",
    "    '''Retrieves the indices of all points in points that are at distance less than h from point'''\n",
    "    indices = []\n",
    "    for i in range(points.shape[0]):       \n",
    "        dist = np.linalg.norm(point-points[i]);\n",
    "        if (dist < h):\n",
    "           #print(\"points p[\", i, \"]:\", points[i], \"dist:\", dist)\n",
    "            indices.append(i)\n",
    "    #if (len(indices) > 0):\n",
    "        #print(\"indices:\", indices)\n",
    "    return indices"
   ]
  },
  {
   "cell_type": "code",
   "execution_count": 26,
   "metadata": {},
   "outputs": [],
   "source": [
    "def wendlandFunction(r, h):\n",
    "    return pow((1 - r/h), 4) * (4*r/h + 1)"
   ]
  },
  {
   "cell_type": "code",
   "execution_count": 27,
   "metadata": {},
   "outputs": [],
   "source": [
    "def create_b_j(pi, degPoly):\n",
    "    if (degPoly == 0):\n",
    "        return np.array([1])\n",
    "    if (degPoly == 1):\n",
    "        return np.array([1.0, pi[0], pi[1], pi[2]])\n",
    "    if (degPoly == 2):\n",
    "        return np.array([1.0, pi[0], pi[1], pi[2], pi[0]*pi[1], pi[0]*pi[2], pi[1]*pi[2], pi[0]*pi[0], pi[1]*pi[1], pi[2]*pi[2]])\n",
    "    print('Error: wrong degPoly parm given. Must be within [0, 2]')\n",
    "    return None"
   ]
  },
  {
   "cell_type": "code",
   "execution_count": 28,
   "metadata": {},
   "outputs": [],
   "source": [
    "# Solve for p_xi (points p with norm(xi - p) < wedlandRadius)\n",
    "h = 25\n",
    "p_x = []\n",
    "for i in range(x.shape[0]):\n",
    "    #print(\"point:x[\", i, \"]:\", x[i], \"points: p:\")\n",
    "    indices = closest_points(x[i], p, h)\n",
    "    #if(len(indices) > 0):\n",
    "        #print(\"Appending indices to p_x[\", i, \"]\")\n",
    "    p_x.append(indices)\n",
    "#print(p_x)"
   ]
  },
  {
   "cell_type": "code",
   "execution_count": 29,
   "metadata": {},
   "outputs": [],
   "source": [
    "fx = np.zeros((x.shape[0]))\n",
    "degPoly = 0;\n",
    "if (degPoly == 1):\n",
    "    numPoly = 4\n",
    "elif (degPoly == 2):\n",
    "    numPoly = 10\n",
    "else:\n",
    "    numPoly = 1\n",
    "    \n",
    "\n",
    "for i in range(x.shape[0]):\n",
    "    # for each grid point x\n",
    "    if (len(p_x[i]) < numPoly*2):\n",
    "        # num of constraint points is less than twice the number of polynomial coefficients\n",
    "        fx[i] = 100\n",
    "    else:\n",
    "        # solve fx[i] = (float) sum over j bj * aj\n",
    "        # find (numPoly x 1) matrix a using Aa = B'\n",
    "        # where  A  = (B^T * W * B) is a numPoly x numPoly matrix\n",
    "        # and    B' = (B^T * W * di) is a numPoly x 1 matrix\n",
    "        # and    B  = len(p_x[i]) x numPoly matrix\n",
    "        # and    W  = len(p_x[i]) x len(p_x[i]) matrix\n",
    "        # and    di = len(p_x[i]) x 1 matrix\n",
    "        # finally a = numPoly x 1 matrix\n",
    "        B = np.zeros((len(p_x[i]), numPoly))\n",
    "        W = np.zeros((len(p_x[i]), len(p_x[i])))\n",
    "        di = np.zeros((len(p_x[i]), 1))\n",
    "        \n",
    "        for j in range(len(p_x[i])):\n",
    "            r = np.linalg.norm(x[i] - p[p_x[i][j]])\n",
    "            W[j][j] = wendlandFunction(r, h)\n",
    "            B[j] = create_b_j(p[p_x[i][j]], degPoly)\n",
    "            di[j] = f[p_x[i][j]]\n",
    "        A = np.dot(np.dot(np.transpose(B), W), B)\n",
    "        B_prime = np.dot(np.dot(np.transpose(B), W), di)\n",
    "        a = np.linalg.solve(A, B_prime)\n",
    "        #print(\"len(p_x[\", i, \"]):\", len(p_x[i]), \"degPoly:\", degPoly)\n",
    "        #print(\"W shape:\", W.shape, \"B shape:\", B.shape, \"di shape:\", di.shape, \"A shape:\", A.shape, \"B' shape:\", B_prime.shape, \"a shape:\", a.shape)\n",
    "        for j in range(len(p_x[i])):\n",
    "            fx[i] += np.dot(B[j], a)"
   ]
  },
  {
   "cell_type": "code",
   "execution_count": 30,
   "metadata": {},
   "outputs": [
    {
     "data": {
      "text/plain": [
       "array([100., 100., 100., ..., 100., 100., 100.])"
      ]
     },
     "execution_count": 30,
     "metadata": {},
     "output_type": "execute_result"
    }
   ],
   "source": [
    "fx"
   ]
  },
  {
   "cell_type": "code",
   "execution_count": 31,
   "metadata": {},
   "outputs": [
    {
     "data": {
      "application/vnd.jupyter.widget-view+json": {
       "model_id": "ffe275ad10644519ae87880245e943ae",
       "version_major": 2,
       "version_minor": 0
      },
      "text/plain": [
       "Renderer(camera=PerspectiveCamera(children=(DirectionalLight(color='white', intensity=0.6, position=(5.0, -23.…"
      ]
     },
     "metadata": {},
     "output_type": "display_data"
    },
    {
     "data": {
      "text/plain": [
       "<meshplot.Viewer.Viewer at 0x253ca8496d8>"
      ]
     },
     "execution_count": 31,
     "metadata": {},
     "output_type": "execute_result"
    }
   ],
   "source": [
    "ind = np.zeros_like(fx)\n",
    "ind[fx >= 0] = 1\n",
    "ind[fx < 0] = -1\n",
    "mp.plot(x, c=ind, shading={\"point_size\": 8,\"width\": 800, \"height\": 800})"
   ]
  },
  {
   "cell_type": "markdown",
   "metadata": {},
   "source": [
    "# Extracting the surface"
   ]
  },
  {
   "cell_type": "code",
   "execution_count": 32,
   "metadata": {},
   "outputs": [
    {
     "data": {
      "application/vnd.jupyter.widget-view+json": {
       "model_id": "33526182ff4d4a9a96fc73f5672481a2",
       "version_major": 2,
       "version_minor": 0
      },
      "text/plain": [
       "Renderer(camera=PerspectiveCamera(children=(DirectionalLight(color='white', intensity=0.6, position=(5.3394727…"
      ]
     },
     "metadata": {},
     "output_type": "display_data"
    },
    {
     "data": {
      "text/plain": [
       "<meshplot.Viewer.Viewer at 0x253cab3c518>"
      ]
     },
     "execution_count": 32,
     "metadata": {},
     "output_type": "execute_result"
    }
   ],
   "source": [
    "sv, sf, _, _ = igl.marching_tets(x, T, fx, 0)\n",
    "mp.plot(sv, sf, shading={\"wireframe\": True})"
   ]
  },
  {
   "cell_type": "markdown",
   "metadata": {},
   "source": [
    "# Implementing a spatial index to accelerate neighbor calculations"
   ]
  },
  {
   "cell_type": "markdown",
   "metadata": {},
   "source": [
    "### This section didn't plan out like expected. Unfortunately I am a little too exhausted to get this over the finish line."
   ]
  },
  {
   "cell_type": "code",
   "execution_count": null,
   "metadata": {},
   "outputs": [],
   "source": []
  },
  {
   "cell_type": "code",
   "execution_count": 36,
   "metadata": {},
   "outputs": [
    {
     "name": "stdout",
     "output_type": "stream",
     "text": [
      "15.0\n"
     ]
    }
   ],
   "source": [
    "grid_n = 10 # i, j, k domain = [0, 10] -> 10 x 10 grid\n",
    "grid = [[[[] for k in range(grid_n+1)] for j in range(grid_n+1)] for i in range(grid_n+1)]\n",
    "#print(grid)\n",
    "max_size = round(max(max_x, max_y, max_z)/10)*10 # max size of the bbox rounded to nearest 10\n",
    "min_pos = round((min(min_x, min_y, min_z)-20)/10)*10 # min position the bbox approaches from x, y, z\n",
    "w = (max_size-min_pos)/grid_n # determine distance between equally subdived cell walls\n",
    "w, min_pos\n",
    "print(w)\n",
    "\n",
    "for index in range(p.shape[0]):\n",
    "    i = math.floor((p[index][0] - min_pos)/w)\n",
    "    j = math.floor((p[index][1] - min_pos)/w)\n",
    "    k = math.floor((p[index][2] - min_pos)/w)\n",
    "    grid[i][j][k].append(index)\n",
    "\n",
    "#print(grid)"
   ]
  },
  {
   "cell_type": "code",
   "execution_count": null,
   "metadata": {},
   "outputs": [],
   "source": [
    "fx = np.zeros((x.shape[0]))\n",
    "degPoly = 0;\n",
    "if (degPoly == 1):\n",
    "    numPoly = 4\n",
    "elif (degPoly == 2):\n",
    "    numPoly = 10\n",
    "else:\n",
    "    numPoly = 1\n",
    "radius = [-h, 0, h];\n",
    "\n",
    "for index in range(x.shape[0]):\n",
    "    cell_indices = []\n",
    "    prev_cell_indices = []\n",
    "    \n",
    "    #print(\"pos:\", x[index][0], x[index][1], x[index][2])\n",
    "    curr_i = math.floor((x[index][0] - min_pos)/w)\n",
    "    curr_j = math.floor((x[index][1] - min_pos)/w)\n",
    "    curr_k = math.floor((x[index][2] - min_pos)/w)\n",
    "    #print(\"x[\", index, \"]:\", x[index], \"CURRR:\", curr_i, curr_j, curr_k)\n",
    "    grid_x = grid[curr_i][curr_j][curr_k]\n",
    "    #print(\"i:\", curr_i, \"j:\", curr_j, \"k:\", curr_k, \"grid_x:\", grid_x)\n",
    "    \n",
    "    for i in range(len(radius)):\n",
    "        for j in range(len(radius)):\n",
    "            for k in range(len(radius)):\n",
    "                cell_i = math.floor((x[index][0]+radius[i] - min_pos)/w)\n",
    "                cell_j = math.floor((x[index][1]+radius[j] - min_pos)/w)\n",
    "                cell_k = math.floor((x[index][2]+radius[k] - min_pos)/w)\n",
    "                if (([cell_i, cell_j, cell_k] in prev_cell_indices) \n",
    "                    or (cell_i == -1 or cell_j == -1 or cell_k == -1)) or (cell_i == grid_n+1 or cell_j == grid_n+1 or cell_k == grid_n+1):\n",
    "                    continue\n",
    "                else:\n",
    "                    #print(\"x[\", index, \"]:\", x[index], \"cell:\", cell_i, cell_j, cell_k, \"TEST:\", cell_indices)\n",
    "                    cell_indices.extend(grid[cell_i][cell_j][cell_k])\n",
    "                    prev_cell_indices.append([cell_i, cell_j, cell_k])\n",
    "\n",
    "    if (len(cell_indices) < numPoly*2):\n",
    "        fx[index] = 100\n",
    "    else:\n",
    "        # solve fx[i] = (float) sum over j bj * aj\n",
    "        # find (numPoly x 1) matrix a using Aa = B'\n",
    "        # where  A  = (B^T * W * B) is a numPoly x numPoly matrix\n",
    "        # and    B' = (B^T * W * di) is a numPoly x 1 matrix\n",
    "        # and    B  = len(cell_indices) x numPoly matrix\n",
    "        # and    W  = len(cell_indices) x len(cell_indices) matrix\n",
    "        # and    di = len(cell_indices) x 1 matrix\n",
    "        # finally a = numPoly x 1 matrix\n",
    "        B = np.zeros((len(cell_indices), numPoly))\n",
    "        W = np.zeros((len(cell_indices), len(cell_indices)))\n",
    "        di = np.zeros((len(cell_indices), 1))\n",
    "        for pi in range(len(cell_indices)):\n",
    "            r = np.linalg.norm(x[index] - p[cell_indices[pi]])\n",
    "            W[pi][pi] = wendlandFunction(r, h)\n",
    "            B[pi] = create_b_j(p[cell_indices[pi]], degPoly)\n",
    "            di[pi] = f[cell_indices[pi]]\n",
    "        A = np.dot(np.dot(np.transpose(B), W), B)\n",
    "        B_prime = np.dot(np.dot(np.transpose(B), W), di)\n",
    "        a = np.linalg.solve(A, B_prime)\n",
    "        #print(\"len(p_x[\", i, \"]):\", len(p_x[i]), \"degPoly:\", degPoly)\n",
    "        #print(\"W shape:\", W.shape, \"B shape:\", B.shape, \"di shape:\", di.shape, \"A shape:\", A.shape, \"B' shape:\", B_prime.shape, \"a shape:\", a.shape)\n",
    "        for j in range(len(cell_indices)):\n",
    "            fx[index] += np.dot(B[j], a)"
   ]
  },
  {
   "cell_type": "code",
   "execution_count": null,
   "metadata": {},
   "outputs": [],
   "source": [
    "fx"
   ]
  },
  {
   "cell_type": "code",
   "execution_count": 36,
   "metadata": {},
   "outputs": [
    {
     "data": {
      "application/vnd.jupyter.widget-view+json": {
       "model_id": "68de9b7b7c8e41928437a3b519afa81c",
       "version_major": 2,
       "version_minor": 0
      },
      "text/plain": [
       "Renderer(camera=PerspectiveCamera(children=(DirectionalLight(color='white', intensity=0.6, position=(5.0, -23.…"
      ]
     },
     "metadata": {},
     "output_type": "display_data"
    },
    {
     "data": {
      "text/plain": [
       "<meshplot.Viewer.Viewer at 0x20a4088c400>"
      ]
     },
     "execution_count": 36,
     "metadata": {},
     "output_type": "execute_result"
    }
   ],
   "source": [
    "ind = np.zeros_like(fx)\n",
    "ind[fx >= 0] = 1\n",
    "ind[fx < 0] = -1\n",
    "mp.plot(x, c=ind, shading={\"point_size\": 8,\"width\": 800, \"height\": 800})"
   ]
  },
  {
   "cell_type": "markdown",
   "metadata": {},
   "source": [
    "# Using a non-axis-aligned grid."
   ]
  },
  {
   "cell_type": "code",
   "execution_count": 41,
   "metadata": {},
   "outputs": [
    {
     "data": {
      "application/vnd.jupyter.widget-view+json": {
       "model_id": "738a5921d1da49c6a6ae1bc6c7550836",
       "version_major": 2,
       "version_minor": 0
      },
      "text/plain": [
       "Renderer(camera=PerspectiveCamera(children=(DirectionalLight(color='white', intensity=0.6, position=(1.1287999…"
      ]
     },
     "metadata": {},
     "output_type": "display_data"
    },
    {
     "data": {
      "text/plain": [
       "<meshplot.Viewer.Viewer at 0x253cd586240>"
      ]
     },
     "execution_count": 41,
     "metadata": {},
     "output_type": "execute_result"
    }
   ],
   "source": [
    "pi, v = igl.read_triangle_mesh(\"data/luigi.off\")\n",
    "pi /= 10\n",
    "ni = igl.per_vertex_normals(pi, v)\n",
    "mp.plot(pi, shading={\"point_size\": 0.5})"
   ]
  },
  {
   "cell_type": "code",
   "execution_count": 42,
   "metadata": {},
   "outputs": [
    {
     "data": {
      "application/vnd.jupyter.widget-view+json": {
       "model_id": "966ff82072bb40e4ad7f308125ebb056",
       "version_major": 2,
       "version_minor": 0
      },
      "text/plain": [
       "Renderer(camera=PerspectiveCamera(children=(DirectionalLight(color='white', intensity=0.6, position=(-0.009680…"
      ]
     },
     "metadata": {},
     "output_type": "display_data"
    },
    {
     "data": {
      "text/plain": [
       "array([[14365.56275095, 11665.95411589,  7657.9574822 ],\n",
       "       [11665.95411589, 15989.37373242, 11280.53693744],\n",
       "       [ 7657.9574822 , 11280.53693744, 13911.63246754]])"
      ]
     },
     "execution_count": 42,
     "metadata": {},
     "output_type": "execute_result"
    }
   ],
   "source": [
    "Y = pi-np.mean(pi, axis=0)\n",
    "S=Y.T@Y\n",
    "\n",
    "l,v =np.linalg.eig(S)\n",
    "\n",
    "p=mp.plot(Y,shading={\"point_size\": 0.5})\n",
    "p.add_lines(np.array([0,0,0]), v[:, 0]*10)\n",
    "p.add_lines(np.array([0,0,0]), v[:, 1]*10)\n",
    "p.add_lines(np.array([0,0,0]), v[:, 2]*10)\n",
    "v, l, \n",
    "S"
   ]
  },
  {
   "cell_type": "code",
   "execution_count": 43,
   "metadata": {},
   "outputs": [
    {
     "data": {
      "text/plain": [
       "(array([[-1.5493 ,  1.429  ,  0.35299],\n",
       "        [ 2.7288 ,  2.9492 , -2.1646 ],\n",
       "        [-2.7832 , -0.67427, -3.9072 ],\n",
       "        ...,\n",
       "        [ 2.2225 ,  2.668  , -2.8415 ],\n",
       "        [ 2.3444 ,  6.0958 ,  1.7899 ],\n",
       "        [-0.52428,  1.3474 , -2.7328 ]]), (2502, 3))"
      ]
     },
     "execution_count": 43,
     "metadata": {},
     "output_type": "execute_result"
    }
   ],
   "source": [
    "pi = pi.copy()\n",
    "ni = ni.copy()\n",
    "eps = 0.01 * bbox_diag;\n",
    "pi, pi.shape"
   ]
  },
  {
   "cell_type": "code",
   "execution_count": 44,
   "metadata": {},
   "outputs": [],
   "source": [
    "for i in range(len(pi)):\n",
    "    pi[i][0] *= v[0, 0]\n",
    "    pi[i][1] *= v[1, 1]\n",
    "    pi[i][2] *= v[2, 2]\n",
    "    ni[i][0] *= v[0, 0]\n",
    "    ni[i][1] *= v[1, 1]\n",
    "    ni[i][2] *= v[2, 2]"
   ]
  },
  {
   "cell_type": "code",
   "execution_count": 45,
   "metadata": {},
   "outputs": [
    {
     "data": {
      "text/plain": [
       "array([[ 0.85326227, -0.00598313,  0.15626195],\n",
       "       [-1.5028607 , -0.0123481 , -0.9582272 ],\n",
       "       [ 1.53282098,  0.00282312, -1.72964304],\n",
       "       ...,\n",
       "       [-1.22402078, -0.01117073, -1.25787794],\n",
       "       [-1.29115604, -0.0255227 ,  0.79235464],\n",
       "       [ 0.28874223, -0.00564147, -1.20975852]])"
      ]
     },
     "execution_count": 45,
     "metadata": {},
     "output_type": "execute_result"
    }
   ],
   "source": [
    "pi"
   ]
  },
  {
   "cell_type": "code",
   "execution_count": 46,
   "metadata": {},
   "outputs": [],
   "source": [
    "#Calucalte the min and max for each point\n",
    "\n",
    "max_x, max_y, max_z = min_x, min_y, min_z = pi[0][0], pi[0][1], pi[0][2]\n",
    "\n",
    "for i in range(pi.shape[0]):\n",
    "    \n",
    "    if (pi[i][0] > max_x):\n",
    "        max_x = pi[i][0]\n",
    "    if (pi[i][0] < min_x):\n",
    "        min_x = pi[i][0]\n",
    "        \n",
    "    if (pi[i][1] > max_y):\n",
    "        max_y = pi[i][1]\n",
    "    if (pi[i][1] < min_y):\n",
    "        min_y = pi[i][1]\n",
    "    if (pi[i][2] > max_z):\n",
    "        max_z = pi[i][2]\n",
    "    if (pi[i][2] < min_z):\n",
    "        min_z = pi[i][2]\n",
    "# Add buffer\n",
    "max_x += 5\n",
    "min_x -= 5\n",
    "max_y += 5\n",
    "min_y -= 5\n",
    "max_z += 5\n",
    "min_z -= 20"
   ]
  },
  {
   "cell_type": "code",
   "execution_count": null,
   "metadata": {},
   "outputs": [],
   "source": [
    "# For each point pi in the point cloud, add a constraint of the form f(pi) = di = 0\n",
    "# Fix an eps value, for instance eps = 0.01 * bounding_box_diagonal\n",
    "# For each point pi compute pi+ = pi + eps * ni, where ni is the normalized normal of pi. \n",
    "# Check that pi is the closest point to pi+, if not, halve esp and recompute pi+ until this is the case. Then, add another constraint\n",
    "# equation: f(pi+) = eps\n",
    "# Repeat this same process for -eps,\n",
    "# Final result is a unqiue vector or pi, pi+, and pi- to p and corresponding f\n",
    "p = np.zeros((pi.shape[0] * 3, 3))\n",
    "f = np.zeros(pi.shape[0]*3)\n",
    "color = np.zeros((pi.shape[0]*3, 3))\n",
    "\n",
    "for i in range(pi.shape[0]):\n",
    "    p[3*i] = pi[i]\n",
    "    f[3*i] = 0\n",
    "    color[3*i] = [0.0, 0.0, 1.0]\n",
    "    \n",
    "    pi_plus, found_eps = find_eps(i, pi[i], ni[i], pi, eps, True)\n",
    "    p[3*i + 1] = pi_plus\n",
    "    f[3*i + 1] = found_eps\n",
    "    color[3*i + 1] = [1.0, 0.0, 0.0]\n",
    "        \n",
    "    pi_minus, found_eps = find_eps(i, pi[i], ni[i], pi, eps, False)\n",
    "    p[3*i + 2] = pi_minus\n",
    "    f[3*i + 2] = -found_eps\n",
    "    color[3*i + 2] = [0.0, 1.0, 0.0]\n",
    "    "
   ]
  },
  {
   "cell_type": "code",
   "execution_count": null,
   "metadata": {},
   "outputs": [],
   "source": [
    "mp.plot(p, c=color, shading={\"point_size\": 0.1})\n",
    "p.add_lines(np.array([0,0,0]), v[:, 0]*10)\n",
    "p.add_lines(np.array([0,0,0]), v[:, 1]*10)\n",
    "p.add_lines(np.array([0,0,0]), v[:, 2]*10)"
   ]
  },
  {
   "cell_type": "code",
   "execution_count": null,
   "metadata": {},
   "outputs": [],
   "source": []
  },
  {
   "cell_type": "code",
   "execution_count": null,
   "metadata": {},
   "outputs": [],
   "source": []
  }
 ],
 "metadata": {
  "kernelspec": {
   "display_name": "Python 3",
   "language": "python",
   "name": "python3"
  },
  "language_info": {
   "codemirror_mode": {
    "name": "ipython",
    "version": 3
   },
   "file_extension": ".py",
   "mimetype": "text/x-python",
   "name": "python",
   "nbconvert_exporter": "python",
   "pygments_lexer": "ipython3",
   "version": "3.7.0"
  }
 },
 "nbformat": 4,
 "nbformat_minor": 4
}

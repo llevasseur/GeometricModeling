{
 "cells": [
  {
   "cell_type": "markdown",
   "metadata": {},
   "source": [
    "# Assigment 3"
   ]
  },
  {
   "cell_type": "code",
   "execution_count": 226,
   "metadata": {},
   "outputs": [],
   "source": [
    "import igl\n",
    "import numpy as np\n",
    "import meshplot as mp\n",
    "from scipy.sparse.linalg import spsolve\n",
    "import scipy as sp"
   ]
  },
  {
   "cell_type": "code",
   "execution_count": 227,
   "metadata": {},
   "outputs": [
    {
     "data": {
      "application/vnd.jupyter.widget-view+json": {
       "model_id": "7877255989ba40fb8e95ee2a5603b935",
       "version_major": 2,
       "version_minor": 0
      },
      "text/plain": [
       "Renderer(camera=PerspectiveCamera(children=(DirectionalLight(color='white', intensity=0.6, position=(-0.016860…"
      ]
     },
     "metadata": {},
     "output_type": "display_data"
    },
    {
     "data": {
      "text/plain": [
       "<meshplot.Viewer.Viewer at 0x2b7c24568d0>"
      ]
     },
     "execution_count": 227,
     "metadata": {},
     "output_type": "execute_result"
    }
   ],
   "source": [
    "v, f = igl.read_triangle_mesh(\"data/bunny.off\")\n",
    "mp.plot(v, f, shading={\"wireframe\": True})"
   ]
  },
  {
   "cell_type": "markdown",
   "metadata": {},
   "source": [
    "# Vertex normal"
   ]
  },
  {
   "cell_type": "code",
   "execution_count": 228,
   "metadata": {},
   "outputs": [],
   "source": [
    "igl.per_vertex_normals?"
   ]
  },
  {
   "cell_type": "code",
   "execution_count": 229,
   "metadata": {},
   "outputs": [
    {
     "data": {
      "text/plain": [
       "array([[-0.3244438 ,  0.63479412,  0.70126504],\n",
       "       [ 0.69665946,  0.04959323,  0.71568576],\n",
       "       [-0.31520596,  0.88800006,  0.33481502],\n",
       "       ...,\n",
       "       [ 0.43044974, -0.89412873,  0.12347808],\n",
       "       [-0.43673556, -0.78064839, -0.44704602],\n",
       "       [ 0.03755881, -0.70155862, -0.71162128]])"
      ]
     },
     "execution_count": 229,
     "metadata": {},
     "output_type": "execute_result"
    }
   ],
   "source": [
    "#Standard face normal\n",
    "n = igl.per_vertex_normals(v, f, )\n",
    "n"
   ]
  },
  {
   "cell_type": "code",
   "execution_count": 231,
   "metadata": {},
   "outputs": [
    {
     "data": {
      "application/vnd.jupyter.widget-view+json": {
       "model_id": "7f9b899efdfd41aa956aab0156aeefa3",
       "version_major": 2,
       "version_minor": 0
      },
      "text/plain": [
       "Renderer(camera=PerspectiveCamera(children=(DirectionalLight(color='white', intensity=0.6, position=(-0.016860…"
      ]
     },
     "metadata": {},
     "output_type": "display_data"
    }
   ],
   "source": [
    "p=mp.plot(v,f, n=n, shading={\"flat\": False})"
   ]
  },
  {
   "cell_type": "code",
   "execution_count": 230,
   "metadata": {},
   "outputs": [
    {
     "data": {
      "text/plain": [
       "array([[-0.29687978,  0.63027118,  0.71737064],\n",
       "       [ 0.70667502,  0.01503088,  0.70737861],\n",
       "       [-0.30699487,  0.89707826,  0.31781245],\n",
       "       ...,\n",
       "       [ 0.42254472, -0.89873509,  0.11718022],\n",
       "       [-0.27009498, -0.85563005, -0.4415268 ],\n",
       "       [ 0.04695315, -0.69944296, -0.71314441]])"
      ]
     },
     "execution_count": 230,
     "metadata": {},
     "output_type": "execute_result"
    }
   ],
   "source": [
    "#Area-weighted face normal\n",
    "nA = igl.per_vertex_normals(v, f, -igl.PER_VERTEX_NORMALS_WEIGHTING_TYPE_AREA)\n",
    "nA"
   ]
  },
  {
   "cell_type": "code",
   "execution_count": 232,
   "metadata": {},
   "outputs": [
    {
     "data": {
      "application/vnd.jupyter.widget-view+json": {
       "model_id": "b03ad8e8c6bf4a5298ba3e392d698601",
       "version_major": 2,
       "version_minor": 0
      },
      "text/plain": [
       "Renderer(camera=PerspectiveCamera(children=(DirectionalLight(color='white', intensity=0.6, position=(-0.016860…"
      ]
     },
     "metadata": {},
     "output_type": "display_data"
    }
   ],
   "source": [
    "p=mp.plot(v,f, n=n, shading={\"flat\": False})"
   ]
  },
  {
   "cell_type": "raw",
   "metadata": {},
   "source": [
    "##### Not quite enough time to figure out the rest. Glad I could do as much as I could in a short time though!"
   ]
  },
  {
   "cell_type": "code",
   "execution_count": 212,
   "metadata": {},
   "outputs": [],
   "source": [
    "#Mean-curvature normal\n"
   ]
  },
  {
   "cell_type": "code",
   "execution_count": 213,
   "metadata": {},
   "outputs": [],
   "source": [
    "#PCA normal\n"
   ]
  },
  {
   "cell_type": "code",
   "execution_count": 214,
   "metadata": {},
   "outputs": [],
   "source": [
    "#Quadratic fitting normal\n"
   ]
  },
  {
   "cell_type": "markdown",
   "metadata": {},
   "source": [
    "# Curvature"
   ]
  },
  {
   "cell_type": "code",
   "execution_count": 215,
   "metadata": {},
   "outputs": [
    {
     "data": {
      "text/plain": [
       "array([[-0.0260146 ,  0.112578  ,  0.0363871 ],\n",
       "       [-0.0321783 ,  0.174119  , -0.00263321],\n",
       "       [-0.080718  ,  0.152855  ,  0.0302446 ],\n",
       "       ...,\n",
       "       [-0.023099  ,  0.156978  , -0.00584018],\n",
       "       [-0.0713101 ,  0.15068   , -0.0435721 ],\n",
       "       [-0.0396435 ,  0.152397  , -0.00721968]])"
      ]
     },
     "execution_count": 215,
     "metadata": {},
     "output_type": "execute_result"
    }
   ],
   "source": [
    "# massmatrix\n",
    "v"
   ]
  },
  {
   "cell_type": "code",
   "execution_count": 216,
   "metadata": {},
   "outputs": [
    {
     "data": {
      "application/vnd.jupyter.widget-view+json": {
       "model_id": "73345bacf7ce4d4e8dd1dc7b7e37a0c4",
       "version_major": 2,
       "version_minor": 0
      },
      "text/plain": [
       "Renderer(camera=PerspectiveCamera(children=(DirectionalLight(color='white', intensity=0.6, position=(-0.016860…"
      ]
     },
     "metadata": {},
     "output_type": "display_data"
    },
    {
     "data": {
      "text/plain": [
       "<meshplot.Viewer.Viewer at 0x2b7c23be048>"
      ]
     },
     "execution_count": 216,
     "metadata": {},
     "output_type": "execute_result"
    }
   ],
   "source": [
    "#gaussian curvature\n",
    "K = igl.gaussian_curvature(v, f)\n",
    "mp.plot(v, f, K)"
   ]
  },
  {
   "cell_type": "code",
   "execution_count": 217,
   "metadata": {},
   "outputs": [
    {
     "data": {
      "application/vnd.jupyter.widget-view+json": {
       "model_id": "17960572c85a483386662d9aa4fae6ce",
       "version_major": 2,
       "version_minor": 0
      },
      "text/plain": [
       "Renderer(camera=PerspectiveCamera(children=(DirectionalLight(color='white', intensity=0.6, position=(-0.016860…"
      ]
     },
     "metadata": {},
     "output_type": "display_data"
    },
    {
     "data": {
      "text/plain": [
       "<meshplot.Viewer.Viewer at 0x2b7c22ee6d8>"
      ]
     },
     "execution_count": 217,
     "metadata": {},
     "output_type": "execute_result"
    }
   ],
   "source": [
    "M = igl.massmatrix(v, f, igl.MASSMATRIX_TYPE_VORONOI)\n",
    "Minv = sp.sparse.diags(1 / M.diagonal())\n",
    "Kn = Minv.dot(K)\n",
    "mp.plot(v, f, Kn)"
   ]
  },
  {
   "cell_type": "code",
   "execution_count": 218,
   "metadata": {},
   "outputs": [],
   "source": [
    "# Contangent Laplace-Beltrami\n",
    "L = igl.cotmatrix(v, f)"
   ]
  },
  {
   "cell_type": "code",
   "execution_count": 219,
   "metadata": {},
   "outputs": [
    {
     "data": {
      "text/plain": [
       "array([ 52.69434874, 414.31495012,  68.7916509 , ..., 202.27782545,\n",
       "       466.93734546, 121.77667913])"
      ]
     },
     "execution_count": 219,
     "metadata": {},
     "output_type": "execute_result"
    }
   ],
   "source": [
    "# Discrete Mean Curvature H\n",
    "Hn = -Minv.dot(L.dot(v))\n",
    "H = np.linalg.norm(Hn, axis=1)\n",
    "H\n",
    "#mp.plot(v, f, h)"
   ]
  },
  {
   "cell_type": "code",
   "execution_count": 220,
   "metadata": {},
   "outputs": [
    {
     "data": {
      "application/vnd.jupyter.widget-view+json": {
       "model_id": "b54776b25136441787c2f940b0ccd4c3",
       "version_major": 2,
       "version_minor": 0
      },
      "text/plain": [
       "Renderer(camera=PerspectiveCamera(children=(DirectionalLight(color='white', intensity=0.6, position=(-0.016860…"
      ]
     },
     "metadata": {},
     "output_type": "display_data"
    },
    {
     "data": {
      "text/plain": [
       "2"
      ]
     },
     "execution_count": 220,
     "metadata": {},
     "output_type": "execute_result"
    }
   ],
   "source": [
    "# principal curvature 1 = max, 2 = min\n",
    "pd1, pd2, pv1, pv2 = igl.principal_curvature(v, f)\n",
    "H2 = 0.5 * (pv1 + pv2)\n",
    "p = mp.plot(v, f, H2, shading={\"wireframe\": False}, return_plot=True)\n",
    "\n",
    "avg = igl.avg_edge_length(v, f) / 2.0\n",
    "p.add_lines(v + pd1 * avg, v - pd1 * avg, shading={\"line_color\": \"red\"})\n",
    "p.add_lines(v + pd2 * avg, v - pd2 * avg, shading={\"line_color\": \"green\"})"
   ]
  },
  {
   "cell_type": "markdown",
   "metadata": {},
   "source": [
    "# Smoothing with the Laplacian"
   ]
  },
  {
   "cell_type": "code",
   "execution_count": null,
   "metadata": {},
   "outputs": [],
   "source": []
  },
  {
   "cell_type": "code",
   "execution_count": 221,
   "metadata": {},
   "outputs": [
    {
     "name": "stdout",
     "output_type": "stream",
     "text": [
      "(2762, 2762) (2762, 2762)\n"
     ]
    },
    {
     "data": {
      "application/vnd.jupyter.widget-view+json": {
       "model_id": "44f8d05bc558417795d4afa041e0e719",
       "version_major": 2,
       "version_minor": 0
      },
      "text/plain": [
       "HBox(children=(Output(), Output()))"
      ]
     },
     "metadata": {},
     "output_type": "display_data"
    }
   ],
   "source": [
    "# Implicit laplacian\n",
    "v, f = igl.read_triangle_mesh(\"data/cow.off\")\n",
    "L = igl.cotmatrix(v, f)\n",
    "n = igl.per_vertex_normals(v, f)*0.5+0.5\n",
    "c = np.linalg.norm(n, axis=1)\n",
    "vs = [v]\n",
    "cs = [c]\n",
    "for i in range(1):\n",
    "    M = igl.massmatrix(v, f, igl.MASSMATRIX_TYPE_BARYCENTRIC)\n",
    "    print(L.shape, M.shape)\n",
    "    s = (M - 1 * L) # lambda = 20, dt = 1/20 => 1\n",
    "    b = M.dot(v)\n",
    "    v = spsolve(s, b)\n",
    "    n = igl.per_vertex_normals(v, f)*0.5+0.5\n",
    "    c = np.linalg.norm(n, axis=1)\n",
    "    vs.append(v)\n",
    "    cs.append(c)\n",
    "p = mp.subplot(vs[0], f, cs[0], shading={\"wireframe\": False}, s=[1, 2, 0])\n",
    "mp.subplot(vs[1], f, cs[1], shading={\"wireframe\": False}, s=[1, 2, 1], data=p)"
   ]
  },
  {
   "cell_type": "code",
   "execution_count": 222,
   "metadata": {},
   "outputs": [],
   "source": [
    "# Explicit laplacian\n",
    "v, f = igl.read_triangle_mesh(\"data/cow.off\")\n",
    "Lw = igl.cotmatrix(v, f)\n",
    "n = igl.per_vertex_normals(v, f)*0.5+0.5\n",
    "c = np.linalg.norm(n, axis=1)\n",
    "vs = [v]\n",
    "cs = [c]\n",
    "\n",
    "\n",
    "for i in range(1000):\n",
    "    M = igl.massmatrix(v, f, igl.MASSMATRIX_TYPE_BARYCENTRIC)\n",
    "    Minv = sp.sparse.diags(1 /M.diagonal())\n",
    "    L = Minv.dot(Lw)\n",
    "    I = sp.sparse.identity(L.shape[0])\n",
    "    s = (I - 0.0000001 * L)\n",
    "    v = s.dot(v)\n",
    "    n = igl.per_vertex_normals(v, f)*0.5+0.5\n",
    "    c = np.linalg.norm(n, axis=1)\n",
    "    vs.append(v)\n",
    "    cs.append(c)"
   ]
  },
  {
   "cell_type": "code",
   "execution_count": 223,
   "metadata": {},
   "outputs": [
    {
     "data": {
      "application/vnd.jupyter.widget-view+json": {
       "model_id": "fb3ad172f92a43ea8b9ebbb319e01193",
       "version_major": 2,
       "version_minor": 0
      },
      "text/plain": [
       "HBox(children=(Output(), Output(), Output()))"
      ]
     },
     "metadata": {},
     "output_type": "display_data"
    }
   ],
   "source": [
    "p = mp.subplot(vs[0], f, cs[0], shading={\"wireframe\": False}, s=[1, 3, 0])\n",
    "mp.subplot(vs[500], f, cs[500], shading={\"wireframe\": False}, s=[1, 3, 1], data=p)\n",
    "mp.subplot(vs[999], f, cs[999], shading={\"wireframe\": False}, s=[1, 3, 2], data=p)"
   ]
  }
 ],
 "metadata": {
  "kernelspec": {
   "display_name": "Python 3",
   "language": "python",
   "name": "python3"
  },
  "language_info": {
   "codemirror_mode": {
    "name": "ipython",
    "version": 3
   },
   "file_extension": ".py",
   "mimetype": "text/x-python",
   "name": "python",
   "nbconvert_exporter": "python",
   "pygments_lexer": "ipython3",
   "version": "3.7.0"
  }
 },
 "nbformat": 4,
 "nbformat_minor": 4
}

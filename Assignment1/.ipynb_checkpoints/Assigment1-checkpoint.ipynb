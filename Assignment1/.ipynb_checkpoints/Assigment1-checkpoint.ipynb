{
 "cells": [
  {
   "cell_type": "markdown",
   "metadata": {},
   "source": [
    "# Neighborhood Computations By Leevon Levasseur V00868326 Sept 21/21"
   ]
  },
  {
   "cell_type": "code",
   "execution_count": 526,
   "metadata": {},
   "outputs": [],
   "source": [
    "import numpy as np\n",
    "import igl\n",
    "import meshplot\n",
    "import os\n",
    "import math\n",
    "root_folder = os.getcwd()"
   ]
  },
  {
   "cell_type": "code",
   "execution_count": 527,
   "metadata": {},
   "outputs": [],
   "source": [
    "bunny_v, bunny_f = igl.read_triangle_mesh(\"data/bunny.off\")\n",
    "sbunny_v, sbunny_f = igl.read_triangle_mesh(\"data/bunny_small.off\")\n",
    "cube_v, cube_f = igl.read_triangle_mesh(\"data/cube.obj\")\n",
    "sphere_v, sphere_f = igl.read_triangle_mesh(\"data/sphere.obj\")"
   ]
  },
  {
   "cell_type": "code",
   "execution_count": 528,
   "metadata": {},
   "outputs": [],
   "source": [
    "n=igl.per_vertex_normals(bunny_v,bunny_f)"
   ]
  },
  {
   "cell_type": "code",
   "execution_count": 529,
   "metadata": {},
   "outputs": [
    {
     "data": {
      "application/vnd.jupyter.widget-view+json": {
       "model_id": "58f554e0f2d3407fba1c23652180ea1a",
       "version_major": 2,
       "version_minor": 0
      },
      "text/plain": [
       "Renderer(camera=PerspectiveCamera(children=(DirectionalLight(color='white', intensity=0.6, position=(-0.016860…"
      ]
     },
     "metadata": {},
     "output_type": "display_data"
    },
    {
     "data": {
      "text/plain": [
       "1"
      ]
     },
     "execution_count": 529,
     "metadata": {},
     "output_type": "execute_result"
    }
   ],
   "source": [
    "p=meshplot.plot(bunny_v, bunny_f, n=n, shading={\"wireframe\": True})\n",
    "p.add_lines(bunny_v, bunny_v + 0.01*n)"
   ]
  },
  {
   "cell_type": "code",
   "execution_count": 531,
   "metadata": {},
   "outputs": [
    {
     "data": {
      "application/vnd.jupyter.widget-view+json": {
       "model_id": "11bad432979e4d34be790a37cf819b2c",
       "version_major": 2,
       "version_minor": 0
      },
      "text/plain": [
       "Renderer(camera=PerspectiveCamera(children=(DirectionalLight(color='white', intensity=0.6, position=(0.0, 0.0,…"
      ]
     },
     "metadata": {},
     "output_type": "display_data"
    },
    {
     "data": {
      "text/plain": [
       "<meshplot.Viewer.Viewer at 0x2d1414c1780>"
      ]
     },
     "execution_count": 531,
     "metadata": {},
     "output_type": "execute_result"
    }
   ],
   "source": [
    "meshplot.plot(cube_v, cube_f, shading={\"wireframe\": True})"
   ]
  },
  {
   "cell_type": "code",
   "execution_count": 532,
   "metadata": {
    "scrolled": true
   },
   "outputs": [
    {
     "data": {
      "application/vnd.jupyter.widget-view+json": {
       "model_id": "af2fdc44ab1449c8bb9ca5bb609b14c9",
       "version_major": 2,
       "version_minor": 0
      },
      "text/plain": [
       "Renderer(camera=PerspectiveCamera(children=(DirectionalLight(color='white', intensity=0.6, position=(0.0, 0.0,…"
      ]
     },
     "metadata": {},
     "output_type": "display_data"
    },
    {
     "data": {
      "text/plain": [
       "<meshplot.Viewer.Viewer at 0x2d1414e9860>"
      ]
     },
     "execution_count": 532,
     "metadata": {},
     "output_type": "execute_result"
    }
   ],
   "source": [
    "meshplot.plot(sphere_v, sphere_f, shading={\"wireframe\": True})"
   ]
  },
  {
   "cell_type": "markdown",
   "metadata": {},
   "source": [
    "## Vertex-to-Face Relations"
   ]
  },
  {
   "cell_type": "code",
   "execution_count": 536,
   "metadata": {},
   "outputs": [],
   "source": [
    "v=cube_v.copy()\n",
    "f=cube_f.copy()"
   ]
  },
  {
   "cell_type": "code",
   "execution_count": 537,
   "metadata": {},
   "outputs": [],
   "source": [
    "igl.vertex_triangle_adjacency?"
   ]
  },
  {
   "cell_type": "code",
   "execution_count": 538,
   "metadata": {},
   "outputs": [
    {
     "name": "stdout",
     "output_type": "stream",
     "text": [
      "[ 0  6  7 10 11  0  1  7  8  0  1  2 11  1  2  3  8  9  2  3  4 10 11  3\n",
      "  4  5  9  4  5  6 10  5  6  7  8  9]\n",
      "sbunny_f [[2784 2497 2027]\n",
      " [1077  225 1060]\n",
      " [ 425  450  381]\n",
      " ...\n",
      " [3086 3203 3162]\n",
      " [3086 3162 3151]\n",
      " [3086 3151 3085]]\n",
      "size of sbunny_v 3485\n",
      "vf [ 0  6  7 10 11  0  1  7  8  0  1  2 11  1  2  3  8  9  2  3  4 10 11  3\n",
      "  4  5  9  4  5  6 10  5  6  7  8  9]\n",
      "ni [ 0  5  9 13 18 23 27 31 36]\n",
      "size of ni 9\n",
      "size of vf 36\n",
      "faces of cube: [[0 1 2]\n",
      " [2 1 3]\n",
      " [2 3 4]\n",
      " [4 3 5]\n",
      " [4 5 6]\n",
      " [6 5 7]\n",
      " [6 7 0]\n",
      " [0 7 1]\n",
      " [1 7 3]\n",
      " [3 7 5]\n",
      " [6 0 4]\n",
      " [4 0 2]]\n",
      "vertices of cube: [[-0.5 -0.5  0.5]\n",
      " [ 0.5 -0.5  0.5]\n",
      " [-0.5  0.5  0.5]\n",
      " [ 0.5  0.5  0.5]\n",
      " [-0.5  0.5 -0.5]\n",
      " [ 0.5  0.5 -0.5]\n",
      " [-0.5 -0.5 -0.5]\n",
      " [ 0.5 -0.5 -0.5]]\n"
     ]
    }
   ],
   "source": [
    "# Given V print out the vertex-to-face relations\n",
    "vf, ni = igl.vertex_triangle_adjacency(f, v.shape[0])\n",
    "\n",
    "print(vf)\n",
    "\n",
    "#Extra information\n",
    "print('sbunny_f', sbunny_f)\n",
    "print ('size of sbunny_v', sbunny_v.shape[0])\n",
    "print ('vf',vf)\n",
    "print ('ni', ni);\n",
    "print ('size of ni', ni.shape[0])\n",
    "print ('size of vf', vf.shape[0])\n",
    "print ('faces of cube:', cube_f)\n",
    "print ('vertices of cube:', cube_v)"
   ]
  },
  {
   "cell_type": "markdown",
   "metadata": {},
   "source": [
    "I found vertex_triangle_adjacency confusing and not helpful for this question. I instead created my own function:"
   ]
  },
  {
   "cell_type": "code",
   "execution_count": 545,
   "metadata": {},
   "outputs": [
    {
     "data": {
      "text/plain": [
       "(array([[0, 1, 2],\n",
       "        [2, 1, 3],\n",
       "        [2, 3, 4],\n",
       "        [4, 3, 5],\n",
       "        [4, 5, 6],\n",
       "        [6, 5, 7],\n",
       "        [6, 7, 0],\n",
       "        [0, 7, 1],\n",
       "        [1, 7, 3],\n",
       "        [3, 7, 5],\n",
       "        [6, 0, 4],\n",
       "        [4, 0, 2]], dtype=int32), (12, 3))"
      ]
     },
     "execution_count": 545,
     "metadata": {},
     "output_type": "execute_result"
    }
   ],
   "source": [
    "f, f.shape"
   ]
  },
  {
   "cell_type": "code",
   "execution_count": 546,
   "metadata": {},
   "outputs": [],
   "source": [
    "vert_to_face=[]\n",
    "\n",
    "for i in range (v.shape[0]):\n",
    "    faces=[]\n",
    "    for j in range (f.shape[0]):\n",
    "        if i in f[j]:\n",
    "            faces.append(j)\n",
    "            \n",
    "    vert_to_face.append([i, faces])"
   ]
  },
  {
   "cell_type": "code",
   "execution_count": 547,
   "metadata": {},
   "outputs": [
    {
     "data": {
      "text/plain": [
       "[[0, [0, 6, 7, 10, 11]],\n",
       " [1, [0, 1, 7, 8]],\n",
       " [2, [0, 1, 2, 11]],\n",
       " [3, [1, 2, 3, 8, 9]],\n",
       " [4, [2, 3, 4, 10, 11]],\n",
       " [5, [3, 4, 5, 9]],\n",
       " [6, [4, 5, 6, 10]],\n",
       " [7, [5, 6, 7, 8, 9]]]"
      ]
     },
     "execution_count": 547,
     "metadata": {},
     "output_type": "execute_result"
    }
   ],
   "source": [
    "vert_to_face"
   ]
  },
  {
   "cell_type": "markdown",
   "metadata": {},
   "source": [
    "## Vertex-to-Vertex Relations"
   ]
  },
  {
   "cell_type": "code",
   "execution_count": 548,
   "metadata": {},
   "outputs": [],
   "source": [
    "#igl.adjacency_list?"
   ]
  },
  {
   "cell_type": "code",
   "execution_count": 553,
   "metadata": {},
   "outputs": [
    {
     "data": {
      "text/plain": [
       "[[1, 2, 4, 6, 7],\n",
       " [0, 2, 3, 7],\n",
       " [0, 1, 3, 4],\n",
       " [1, 2, 4, 5, 7],\n",
       " [0, 2, 3, 5, 6],\n",
       " [3, 4, 6, 7],\n",
       " [0, 4, 5, 7],\n",
       " [0, 1, 3, 5, 6]]"
      ]
     },
     "execution_count": 553,
     "metadata": {},
     "output_type": "execute_result"
    }
   ],
   "source": [
    "# Given V=sbunny_v and F=sbunny_f print out the vertex-to-vertex relations\n",
    "connections = igl.adjacency_list(f)\n",
    "connections"
   ]
  },
  {
   "cell_type": "code",
   "execution_count": 554,
   "metadata": {},
   "outputs": [],
   "source": [
    "vert_to_vert = []\n",
    "for i in range (v.shape[0]):\n",
    "    vert_to_vert.append([i, connections[i]])"
   ]
  },
  {
   "cell_type": "code",
   "execution_count": 555,
   "metadata": {},
   "outputs": [
    {
     "data": {
      "text/plain": [
       "[[0, [1, 2, 4, 6, 7]],\n",
       " [1, [0, 2, 3, 7]],\n",
       " [2, [0, 1, 3, 4]],\n",
       " [3, [1, 2, 4, 5, 7]],\n",
       " [4, [0, 2, 3, 5, 6]],\n",
       " [5, [3, 4, 6, 7]],\n",
       " [6, [0, 4, 5, 7]],\n",
       " [7, [0, 1, 3, 5, 6]]]"
      ]
     },
     "execution_count": 555,
     "metadata": {},
     "output_type": "execute_result"
    }
   ],
   "source": [
    "vert_to_vert"
   ]
  },
  {
   "cell_type": "markdown",
   "metadata": {},
   "source": [
    "## Shading\n",
    "\n",
    "Meshplot requires per vertex normals, so we need to \"explode\" the mesh"
   ]
  },
  {
   "cell_type": "markdown",
   "metadata": {},
   "source": [
    "### Flat Shading"
   ]
  },
  {
   "cell_type": "code",
   "execution_count": 556,
   "metadata": {},
   "outputs": [],
   "source": [
    "# Change between cube or sphere\n",
    "v = sphere_v.copy()\n",
    "f = sphere_f.copy()"
   ]
  },
  {
   "cell_type": "code",
   "execution_count": 557,
   "metadata": {},
   "outputs": [],
   "source": [
    "# explode f and create a represented version of v\n",
    "exploded_f=np.zeros(f.shape, dtype=int)\n",
    "exploded_v=np.zeros((f.shape[0]*3, 3))\n",
    "v_index=0\n",
    "\n",
    "for i in range(f.shape[0]):\n",
    "    'For exploded_f, start from scratch with new vertexs (ei. [1,2,3],[4,5,6],...)'\n",
    "    new_face=[v_index+0, v_index+1, v_index+2]\n",
    "    exploded_f[i, :]=new_face\n",
    "\n",
    "    for j in range(3):\n",
    "        'Update exploded_v with correct vertices based on previous faces f'\n",
    "        exploded_v[v_index+j, :]=v[f[i, j], :]\n",
    "    v_index+=3\n",
    "    \n",
    "    "
   ]
  },
  {
   "cell_type": "code",
   "execution_count": 558,
   "metadata": {},
   "outputs": [
    {
     "data": {
      "text/plain": [
       "((760, 3), (2280, 3))"
      ]
     },
     "execution_count": 558,
     "metadata": {},
     "output_type": "execute_result"
    }
   ],
   "source": [
    "#exploded_v\n",
    "#exploded_f\n",
    "exploded_f.shape, exploded_v.shape"
   ]
  },
  {
   "cell_type": "code",
   "execution_count": 559,
   "metadata": {},
   "outputs": [],
   "source": [
    "#?igl.per_face_normals"
   ]
  },
  {
   "cell_type": "code",
   "execution_count": 560,
   "metadata": {},
   "outputs": [
    {
     "data": {
      "text/plain": [
       "(array([[ 0.21044845, -0.97170628, -0.1072304 ],\n",
       "        [ 0.2104485 , -0.9717064 , -0.10722923],\n",
       "        [ 0.16701296, -0.97170641, -0.16701296],\n",
       "        ...,\n",
       "        [ 0.07077171,  0.99684051,  0.03606051],\n",
       "        [ 0.07845167,  0.9968405 ,  0.0124242 ],\n",
       "        [ 0.07845167,  0.9968405 , -0.0124242 ]]), (760, 3))"
      ]
     },
     "execution_count": 560,
     "metadata": {},
     "output_type": "execute_result"
    }
   ],
   "source": [
    "n=igl.per_face_normals(exploded_v,exploded_f,np.array([0,1.0,0]))\n",
    "n, n.shape"
   ]
  },
  {
   "cell_type": "code",
   "execution_count": 561,
   "metadata": {},
   "outputs": [],
   "source": [
    "# Compute shading normals for new verticies\n",
    "flat_n=np.zeros(exploded_v.shape)\n",
    "#flat_n, flat_n.shape\n",
    "\n",
    "for i in range(f.shape[0]):\n",
    "    'For each face, store the normal 3 times. This is so the flat normal maps the exploded vertices'\n",
    "    face_n=n[i, :]\n",
    "    \n",
    "    for j in range(3):\n",
    "        'Use the exploded_f as an index'\n",
    "        flat_n[exploded_f[i, j], :]=face_n"
   ]
  },
  {
   "cell_type": "code",
   "execution_count": 562,
   "metadata": {},
   "outputs": [
    {
     "data": {
      "text/plain": [
       "(array([[ 0.21044845, -0.97170628, -0.1072304 ],\n",
       "        [ 0.21044845, -0.97170628, -0.1072304 ],\n",
       "        [ 0.21044845, -0.97170628, -0.1072304 ],\n",
       "        ...,\n",
       "        [ 0.07845167,  0.9968405 , -0.0124242 ],\n",
       "        [ 0.07845167,  0.9968405 , -0.0124242 ],\n",
       "        [ 0.07845167,  0.9968405 , -0.0124242 ]]), (2280, 3))"
      ]
     },
     "execution_count": 562,
     "metadata": {},
     "output_type": "execute_result"
    }
   ],
   "source": [
    "flat_n, flat_n.shape"
   ]
  },
  {
   "cell_type": "code",
   "execution_count": 563,
   "metadata": {},
   "outputs": [
    {
     "data": {
      "application/vnd.jupyter.widget-view+json": {
       "model_id": "24bcebf7555b425b98b7a3fa8ed92c94",
       "version_major": 2,
       "version_minor": 0
      },
      "text/plain": [
       "Renderer(camera=PerspectiveCamera(children=(DirectionalLight(color='white', intensity=0.6, position=(0.0, 0.0,…"
      ]
     },
     "metadata": {},
     "output_type": "display_data"
    },
    {
     "data": {
      "text/plain": [
       "1"
      ]
     },
     "execution_count": 563,
     "metadata": {},
     "output_type": "execute_result"
    }
   ],
   "source": [
    "p=meshplot.plot(exploded_v, exploded_f, n=flat_n, shading={\"flat\": False})\n",
    "p.add_lines(exploded_v, exploded_v + 0.1*flat_n)"
   ]
  },
  {
   "cell_type": "markdown",
   "metadata": {},
   "source": [
    "### Per-vertex Shading"
   ]
  },
  {
   "cell_type": "code",
   "execution_count": 573,
   "metadata": {},
   "outputs": [],
   "source": [
    "#?igl.per_vertex_normals\n",
    "weighting=igl.PER_VERTEX_NORMALS_WEIGHTING_TYPE_AREA"
   ]
  },
  {
   "cell_type": "code",
   "execution_count": 574,
   "metadata": {},
   "outputs": [
    {
     "data": {
      "text/plain": [
       "(array([[ 1.76931307e-01, -9.83212102e-01, -4.46012816e-02],\n",
       "        [ 1.54488765e-01, -9.83212033e-01, -9.70943833e-02],\n",
       "        [ 1.16924380e-01, -9.83212055e-01, -1.40081208e-01],\n",
       "        ...,\n",
       "        [ 1.82054363e-01,  9.83212088e-01, -1.22555855e-02],\n",
       "        [ 1.46296751e-18, -1.00000000e+00,  1.82870938e-18],\n",
       "        [ 1.46296751e-18,  1.00000000e+00,  1.82870938e-18]]),\n",
       " (382, 3),\n",
       " (382, 3),\n",
       " array([[ 0.104145, -0.691382, -0.033839],\n",
       "        [ 0.088591, -0.691382, -0.064365],\n",
       "        [ 0.064365, -0.691382, -0.088591],\n",
       "        ...,\n",
       "        [ 0.109504,  0.691382,  0.      ],\n",
       "        [ 0.      , -0.7     ,  0.      ],\n",
       "        [ 0.      ,  0.7     ,  0.      ]]))"
      ]
     },
     "execution_count": 574,
     "metadata": {},
     "output_type": "execute_result"
    }
   ],
   "source": [
    "vert_n=igl.per_vertex_normals(v, f, weighting)\n",
    "vert_n, vert_n.shape, v.shape, v"
   ]
  },
  {
   "cell_type": "code",
   "execution_count": 576,
   "metadata": {
    "scrolled": false
   },
   "outputs": [
    {
     "data": {
      "application/vnd.jupyter.widget-view+json": {
       "model_id": "75ed6a38b9864108a6d788bab973f993",
       "version_major": 2,
       "version_minor": 0
      },
      "text/plain": [
       "Renderer(camera=PerspectiveCamera(children=(DirectionalLight(color='white', intensity=0.6, position=(0.0, 0.0,…"
      ]
     },
     "metadata": {},
     "output_type": "display_data"
    },
    {
     "data": {
      "text/plain": [
       "1"
      ]
     },
     "execution_count": 576,
     "metadata": {},
     "output_type": "execute_result"
    }
   ],
   "source": [
    "p=meshplot.plot(v, f, n=vert_n, shading={\"flat\": False})\n",
    "p.add_lines(v, v + 0.1*vert_n)"
   ]
  },
  {
   "cell_type": "markdown",
   "metadata": {},
   "source": [
    "### Per-corner Shading"
   ]
  },
  {
   "cell_type": "code",
   "execution_count": 577,
   "metadata": {},
   "outputs": [],
   "source": [
    "#?igl.per_corner_normals"
   ]
  },
  {
   "cell_type": "code",
   "execution_count": 604,
   "metadata": {},
   "outputs": [
    {
     "data": {
      "text/plain": [
       "(array([[ 1.65806844e-01, -9.85081218e-01, -4.60769473e-02],\n",
       "        [ 1.43452957e-01, -9.85081127e-01, -9.50601029e-02],\n",
       "        [ 2.95066620e-01, -9.51063500e-01, -9.17273663e-02],\n",
       "        ...,\n",
       "        [ 1.71930621e-01,  9.85081156e-01, -7.41471608e-03],\n",
       "        [ 1.61224643e-01,  9.85081163e-01, -6.01807038e-02],\n",
       "        [-1.39217736e-18,  1.00000000e+00, -3.48044340e-19]]),\n",
       " (2280, 3),\n",
       " (2280, 3))"
      ]
     },
     "execution_count": 604,
     "metadata": {},
     "output_type": "execute_result"
    }
   ],
   "source": [
    "corner_n=igl.per_corner_normals(v, f, 12)\n",
    "corner_n, corner_n.shape, exploded_v.shape"
   ]
  },
  {
   "cell_type": "code",
   "execution_count": 605,
   "metadata": {},
   "outputs": [
    {
     "data": {
      "application/vnd.jupyter.widget-view+json": {
       "model_id": "fd5ee27a7ce547ca9977bf775e1d2492",
       "version_major": 2,
       "version_minor": 0
      },
      "text/plain": [
       "Renderer(camera=PerspectiveCamera(children=(DirectionalLight(color='white', intensity=0.6, position=(0.0, 0.0,…"
      ]
     },
     "metadata": {},
     "output_type": "display_data"
    },
    {
     "data": {
      "text/plain": [
       "1"
      ]
     },
     "execution_count": 605,
     "metadata": {},
     "output_type": "execute_result"
    }
   ],
   "source": [
    "p=meshplot.plot(exploded_v, exploded_f, n=corner_n, shading={\"flat\": False})\n",
    "p.add_lines(exploded_v, exploded_v + 0.1*corner_n)"
   ]
  },
  {
   "cell_type": "markdown",
   "metadata": {},
   "source": [
    "## Connected Components"
   ]
  },
  {
   "cell_type": "code",
   "execution_count": 607,
   "metadata": {},
   "outputs": [],
   "source": [
    "#igl.face_components?\n",
    "#igl.vertex_components?"
   ]
  },
  {
   "cell_type": "code",
   "execution_count": 608,
   "metadata": {},
   "outputs": [],
   "source": [
    "car_v, car_f = igl.read_triangle_mesh(\"data/car.off\")\n",
    "cup_v, cup_f = igl.read_triangle_mesh(\"data/coffeecup.off\")"
   ]
  },
  {
   "cell_type": "code",
   "execution_count": 609,
   "metadata": {},
   "outputs": [
    {
     "name": "stdout",
     "output_type": "stream",
     "text": [
      "[ 0  0  0 ... 10 10 10]\n"
     ]
    }
   ],
   "source": [
    "c_car=igl.face_components(car_f)\n",
    "print(c_car)"
   ]
  },
  {
   "cell_type": "code",
   "execution_count": 610,
   "metadata": {},
   "outputs": [
    {
     "name": "stdout",
     "output_type": "stream",
     "text": [
      "[0 0 0 ... 1 1 1]\n"
     ]
    }
   ],
   "source": [
    "c_cup=igl.face_components(cup_f)\n",
    "print(c_cup)"
   ]
  },
  {
   "cell_type": "code",
   "execution_count": 611,
   "metadata": {},
   "outputs": [
    {
     "data": {
      "application/vnd.jupyter.widget-view+json": {
       "model_id": "bb768471f5d74dd594d928f96573ed3f",
       "version_major": 2,
       "version_minor": 0
      },
      "text/plain": [
       "Renderer(camera=PerspectiveCamera(children=(DirectionalLight(color='white', intensity=0.6, position=(-3.253649…"
      ]
     },
     "metadata": {},
     "output_type": "display_data"
    },
    {
     "data": {
      "text/plain": [
       "<meshplot.Viewer.Viewer at 0x2d141959198>"
      ]
     },
     "execution_count": 611,
     "metadata": {},
     "output_type": "execute_result"
    }
   ],
   "source": [
    "meshplot.plot(cup_v, cup_f, c=c_cup, shading={\"flat\": False})"
   ]
  },
  {
   "cell_type": "code",
   "execution_count": 612,
   "metadata": {
    "scrolled": false
   },
   "outputs": [
    {
     "data": {
      "application/vnd.jupyter.widget-view+json": {
       "model_id": "c4a66a8301a2454e95841716d2888778",
       "version_major": 2,
       "version_minor": 0
      },
      "text/plain": [
       "Renderer(camera=PerspectiveCamera(children=(DirectionalLight(color='white', intensity=0.6, position=(-7.194198…"
      ]
     },
     "metadata": {},
     "output_type": "display_data"
    },
    {
     "data": {
      "text/plain": [
       "<meshplot.Viewer.Viewer at 0x2d141959470>"
      ]
     },
     "execution_count": 612,
     "metadata": {},
     "output_type": "execute_result"
    }
   ],
   "source": [
    "meshplot.plot(car_v, car_f, c=c_car, shading={\"flat\": False})"
   ]
  },
  {
   "cell_type": "code",
   "execution_count": 613,
   "metadata": {},
   "outputs": [],
   "source": [
    "def count_unique(l):\n",
    "    'Return the unique items in a list and the count of each as a dictionary'\n",
    "    'Code from stack overflow, by ozgur and Scott'\n",
    "    'https://stackoverflow.com/questions/28663856/how-to-count-the-occurrence-of-certain-item-in-an-ndarray'\n",
    "    \n",
    "    unique, counts = np.unique(l, return_counts=True)\n",
    "    return dict(zip(unique, counts))"
   ]
  },
  {
   "cell_type": "code",
   "execution_count": 614,
   "metadata": {},
   "outputs": [
    {
     "data": {
      "text/plain": [
       "{0: 3360, 1: 2304}"
      ]
     },
     "execution_count": 614,
     "metadata": {},
     "output_type": "execute_result"
    }
   ],
   "source": [
    "cup_faces=count_unique(c_cup)\n",
    "cup_faces"
   ]
  },
  {
   "cell_type": "code",
   "execution_count": 615,
   "metadata": {
    "scrolled": true
   },
   "outputs": [
    {
     "data": {
      "text/plain": [
       "{0: 90,\n",
       " 1: 192,\n",
       " 2: 192,\n",
       " 3: 13216,\n",
       " 4: 704,\n",
       " 5: 1088,\n",
       " 6: 1088,\n",
       " 7: 1088,\n",
       " 8: 1088,\n",
       " 9: 736,\n",
       " 10: 736}"
      ]
     },
     "execution_count": 615,
     "metadata": {},
     "output_type": "execute_result"
    }
   ],
   "source": [
    "car_faces=count_unique(c_car)\n",
    "car_faces"
   ]
  },
  {
   "cell_type": "markdown",
   "metadata": {},
   "source": [
    "### Number of connected components and size of each (measured in number of faces) :\n",
    "##### Car:\n",
    "Components: 11\n",
    "Size of each:\n",
    "{0: 90,\n",
    " 1: 192,\n",
    " 2: 192,\n",
    " 3: 13216,\n",
    " 4: 704,\n",
    " 5: 1088,\n",
    " 6: 1088,\n",
    " 7: 1088,\n",
    " 8: 1088,\n",
    " 9: 736,\n",
    " 10: 736}\n",
    " \n",
    "##### Cup:\n",
    "Components: 2\n",
    "Size of each:\n",
    "{0: 3360, 1: 2304}"
   ]
  },
  {
   "cell_type": "markdown",
   "metadata": {},
   "source": [
    "## A simple subdivision scheme"
   ]
  },
  {
   "cell_type": "code",
   "execution_count": 618,
   "metadata": {},
   "outputs": [],
   "source": [
    "v=sphere_v.copy()\n",
    "f=sphere_f.copy()"
   ]
  },
  {
   "cell_type": "code",
   "execution_count": 619,
   "metadata": {},
   "outputs": [],
   "source": [
    "#?igl.barycenter\n",
    "#?igl.edge_topology\n",
    "#?igl.triangle_triangle_adjacency\n",
    "#?igl.adjacency_list"
   ]
  },
  {
   "cell_type": "code",
   "execution_count": 620,
   "metadata": {},
   "outputs": [
    {
     "data": {
      "text/plain": [
       "(array([[ 0.13282033, -0.68283467, -0.055016  ],\n",
       "        [ 0.15643867, -0.67428733, -0.086118  ],\n",
       "        [ 0.10931867, -0.68283467, -0.093367  ],\n",
       "        ...,\n",
       "        [ 0.06424533,  0.69425467,  0.03273467],\n",
       "        [ 0.07121633,  0.69425467,  0.01127967],\n",
       "        [ 0.07121633,  0.69425467, -0.01127967]]),\n",
       " (760, 3),\n",
       " (382, 3),\n",
       " (760, 3))"
      ]
     },
     "execution_count": 620,
     "metadata": {},
     "output_type": "execute_result"
    }
   ],
   "source": [
    "# add new vertex at location m_f for each face\n",
    "m_f=igl.barycenter(v, f)\n",
    "m_f, m_f.shape, v.shape, f.shape"
   ]
  },
  {
   "cell_type": "code",
   "execution_count": 621,
   "metadata": {},
   "outputs": [
    {
     "data": {
      "text/plain": [
       "(array([[ 0.104145  , -0.691382  , -0.033839  ],\n",
       "        [ 0.088591  , -0.691382  , -0.064365  ],\n",
       "        [ 0.064365  , -0.691382  , -0.088591  ],\n",
       "        ...,\n",
       "        [ 0.06424533,  0.69425467,  0.03273467],\n",
       "        [ 0.07121633,  0.69425467,  0.01127967],\n",
       "        [ 0.07121633,  0.69425467, -0.01127967]]),\n",
       " (1142, 3),\n",
       " (382, 3),\n",
       " (760, 3))"
      ]
     },
     "execution_count": 621,
     "metadata": {},
     "output_type": "execute_result"
    }
   ],
   "source": [
    "# append newly created vertices to V, to make V''\n",
    "v_double_prime=np.vstack((v, m_f))\n",
    "v_double_prime, v_double_prime.shape, v.shape, m_f.shape"
   ]
  },
  {
   "cell_type": "code",
   "execution_count": 622,
   "metadata": {},
   "outputs": [
    {
     "data": {
      "text/plain": [
       "(array([[   0,    1,  382],\n",
       "        [   0,   20,  382],\n",
       "        [   1,   20,  382],\n",
       "        ...,\n",
       "        [ 379,  360, 1141],\n",
       "        [ 379,  381, 1141],\n",
       "        [ 360,  381, 1141]]),\n",
       " (2280, 3),\n",
       " array([[ 0.104145  , -0.691382  , -0.033839  ],\n",
       "        [ 0.088591  , -0.691382  , -0.064365  ],\n",
       "        [ 0.064365  , -0.691382  , -0.088591  ],\n",
       "        ...,\n",
       "        [ 0.06424533,  0.69425467,  0.03273467],\n",
       "        [ 0.07121633,  0.69425467,  0.01127967],\n",
       "        [ 0.07121633,  0.69425467, -0.01127967]]),\n",
       " (1142, 3))"
      ]
     },
     "execution_count": 622,
     "metadata": {},
     "output_type": "execute_result"
    }
   ],
   "source": [
    "# add 3 new faces for each face f in order\n",
    "# connect m_f with edges to original 3 vertices\n",
    "#ev, fe, ef=igl.edge_topology() ?\n",
    "f_double_prime=np.zeros((f.shape[0]*3, 3), dtype=int)\n",
    "k=0\n",
    "i=0\n",
    "\n",
    "while i < f_double_prime.shape[0]:\n",
    "    for j in range(3):\n",
    "        #print (f[i, math.floor(j/2)])\n",
    "        #print (f[i, math.floor(1+(j+1)/2)])\n",
    "        #print(v.shape[0]+i)\n",
    "        vertex_0=f[k, math.floor(j/2)]\n",
    "        vertex_1=f[k, math.floor(1+(j+1)/2)]\n",
    "        \n",
    "        f_double_prime[i]=[vertex_0, vertex_1, v.shape[0]+k]\n",
    "        i+=1\n",
    "    k+=1\n",
    "    \n",
    "    \n",
    "f_double_prime, f_double_prime.shape, v_double_prime, v_double_prime.shape   "
   ]
  },
  {
   "cell_type": "code",
   "execution_count": 623,
   "metadata": {},
   "outputs": [
    {
     "data": {
      "application/vnd.jupyter.widget-view+json": {
       "model_id": "579b3f64cb164bdea1f4b6f48574490a",
       "version_major": 2,
       "version_minor": 0
      },
      "text/plain": [
       "Renderer(camera=PerspectiveCamera(children=(DirectionalLight(color='white', intensity=0.6, position=(0.0, 0.0,…"
      ]
     },
     "metadata": {},
     "output_type": "display_data"
    }
   ],
   "source": [
    "plot=meshplot.plot(v_double_prime, f_double_prime, shading={\"flat\": False, \"wireframe\": True})"
   ]
  },
  {
   "cell_type": "code",
   "execution_count": 624,
   "metadata": {},
   "outputs": [
    {
     "data": {
      "text/plain": [
       "[[1, 19, 20, 39, 380],\n",
       " [0, 2, 20, 21, 380],\n",
       " [1, 3, 21, 22, 380],\n",
       " [2, 4, 22, 23, 380],\n",
       " [3, 5, 23, 24, 380],\n",
       " [4, 6, 24, 25, 380],\n",
       " [5, 7, 25, 26, 380],\n",
       " [6, 8, 26, 27, 380],\n",
       " [7, 9, 27, 28, 380],\n",
       " [8, 10, 28, 29, 380],\n",
       " [9, 11, 29, 30, 380],\n",
       " [10, 12, 30, 31, 380],\n",
       " [11, 13, 31, 32, 380],\n",
       " [12, 14, 32, 33, 380],\n",
       " [13, 15, 33, 34, 380],\n",
       " [14, 16, 34, 35, 380],\n",
       " [15, 17, 35, 36, 380],\n",
       " [16, 18, 36, 37, 380],\n",
       " [17, 19, 37, 38, 380],\n",
       " [0, 18, 38, 39, 380],\n",
       " [0, 1, 21, 39, 40, 59],\n",
       " [1, 2, 20, 22, 40, 41],\n",
       " [2, 3, 21, 23, 41, 42],\n",
       " [3, 4, 22, 24, 42, 43],\n",
       " [4, 5, 23, 25, 43, 44],\n",
       " [5, 6, 24, 26, 44, 45],\n",
       " [6, 7, 25, 27, 45, 46],\n",
       " [7, 8, 26, 28, 46, 47],\n",
       " [8, 9, 27, 29, 47, 48],\n",
       " [9, 10, 28, 30, 48, 49],\n",
       " [10, 11, 29, 31, 49, 50],\n",
       " [11, 12, 30, 32, 50, 51],\n",
       " [12, 13, 31, 33, 51, 52],\n",
       " [13, 14, 32, 34, 52, 53],\n",
       " [14, 15, 33, 35, 53, 54],\n",
       " [15, 16, 34, 36, 54, 55],\n",
       " [16, 17, 35, 37, 55, 56],\n",
       " [17, 18, 36, 38, 56, 57],\n",
       " [18, 19, 37, 39, 57, 58],\n",
       " [0, 19, 20, 38, 58, 59],\n",
       " [20, 21, 41, 59, 60, 79],\n",
       " [21, 22, 40, 42, 60, 61],\n",
       " [22, 23, 41, 43, 61, 62],\n",
       " [23, 24, 42, 44, 62, 63],\n",
       " [24, 25, 43, 45, 63, 64],\n",
       " [25, 26, 44, 46, 64, 65],\n",
       " [26, 27, 45, 47, 65, 66],\n",
       " [27, 28, 46, 48, 66, 67],\n",
       " [28, 29, 47, 49, 67, 68],\n",
       " [29, 30, 48, 50, 68, 69],\n",
       " [30, 31, 49, 51, 69, 70],\n",
       " [31, 32, 50, 52, 70, 71],\n",
       " [32, 33, 51, 53, 71, 72],\n",
       " [33, 34, 52, 54, 72, 73],\n",
       " [34, 35, 53, 55, 73, 74],\n",
       " [35, 36, 54, 56, 74, 75],\n",
       " [36, 37, 55, 57, 75, 76],\n",
       " [37, 38, 56, 58, 76, 77],\n",
       " [38, 39, 57, 59, 77, 78],\n",
       " [20, 39, 40, 58, 78, 79],\n",
       " [40, 41, 61, 79, 80, 99],\n",
       " [41, 42, 60, 62, 80, 81],\n",
       " [42, 43, 61, 63, 81, 82],\n",
       " [43, 44, 62, 64, 82, 83],\n",
       " [44, 45, 63, 65, 83, 84],\n",
       " [45, 46, 64, 66, 84, 85],\n",
       " [46, 47, 65, 67, 85, 86],\n",
       " [47, 48, 66, 68, 86, 87],\n",
       " [48, 49, 67, 69, 87, 88],\n",
       " [49, 50, 68, 70, 88, 89],\n",
       " [50, 51, 69, 71, 89, 90],\n",
       " [51, 52, 70, 72, 90, 91],\n",
       " [52, 53, 71, 73, 91, 92],\n",
       " [53, 54, 72, 74, 92, 93],\n",
       " [54, 55, 73, 75, 93, 94],\n",
       " [55, 56, 74, 76, 94, 95],\n",
       " [56, 57, 75, 77, 95, 96],\n",
       " [57, 58, 76, 78, 96, 97],\n",
       " [58, 59, 77, 79, 97, 98],\n",
       " [40, 59, 60, 78, 98, 99],\n",
       " [60, 61, 81, 99, 100, 119],\n",
       " [61, 62, 80, 82, 100, 101],\n",
       " [62, 63, 81, 83, 101, 102],\n",
       " [63, 64, 82, 84, 102, 103],\n",
       " [64, 65, 83, 85, 103, 104],\n",
       " [65, 66, 84, 86, 104, 105],\n",
       " [66, 67, 85, 87, 105, 106],\n",
       " [67, 68, 86, 88, 106, 107],\n",
       " [68, 69, 87, 89, 107, 108],\n",
       " [69, 70, 88, 90, 108, 109],\n",
       " [70, 71, 89, 91, 109, 110],\n",
       " [71, 72, 90, 92, 110, 111],\n",
       " [72, 73, 91, 93, 111, 112],\n",
       " [73, 74, 92, 94, 112, 113],\n",
       " [74, 75, 93, 95, 113, 114],\n",
       " [75, 76, 94, 96, 114, 115],\n",
       " [76, 77, 95, 97, 115, 116],\n",
       " [77, 78, 96, 98, 116, 117],\n",
       " [78, 79, 97, 99, 117, 118],\n",
       " [60, 79, 80, 98, 118, 119],\n",
       " [80, 81, 101, 119, 120, 139],\n",
       " [81, 82, 100, 102, 120, 121],\n",
       " [82, 83, 101, 103, 121, 122],\n",
       " [83, 84, 102, 104, 122, 123],\n",
       " [84, 85, 103, 105, 123, 124],\n",
       " [85, 86, 104, 106, 124, 125],\n",
       " [86, 87, 105, 107, 125, 126],\n",
       " [87, 88, 106, 108, 126, 127],\n",
       " [88, 89, 107, 109, 127, 128],\n",
       " [89, 90, 108, 110, 128, 129],\n",
       " [90, 91, 109, 111, 129, 130],\n",
       " [91, 92, 110, 112, 130, 131],\n",
       " [92, 93, 111, 113, 131, 132],\n",
       " [93, 94, 112, 114, 132, 133],\n",
       " [94, 95, 113, 115, 133, 134],\n",
       " [95, 96, 114, 116, 134, 135],\n",
       " [96, 97, 115, 117, 135, 136],\n",
       " [97, 98, 116, 118, 136, 137],\n",
       " [98, 99, 117, 119, 137, 138],\n",
       " [80, 99, 100, 118, 138, 139],\n",
       " [100, 101, 121, 139, 140, 159],\n",
       " [101, 102, 120, 122, 140, 141],\n",
       " [102, 103, 121, 123, 141, 142],\n",
       " [103, 104, 122, 124, 142, 143],\n",
       " [104, 105, 123, 125, 143, 144],\n",
       " [105, 106, 124, 126, 144, 145],\n",
       " [106, 107, 125, 127, 145, 146],\n",
       " [107, 108, 126, 128, 146, 147],\n",
       " [108, 109, 127, 129, 147, 148],\n",
       " [109, 110, 128, 130, 148, 149],\n",
       " [110, 111, 129, 131, 149, 150],\n",
       " [111, 112, 130, 132, 150, 151],\n",
       " [112, 113, 131, 133, 151, 152],\n",
       " [113, 114, 132, 134, 152, 153],\n",
       " [114, 115, 133, 135, 153, 154],\n",
       " [115, 116, 134, 136, 154, 155],\n",
       " [116, 117, 135, 137, 155, 156],\n",
       " [117, 118, 136, 138, 156, 157],\n",
       " [118, 119, 137, 139, 157, 158],\n",
       " [100, 119, 120, 138, 158, 159],\n",
       " [120, 121, 141, 159, 160, 179],\n",
       " [121, 122, 140, 142, 160, 161],\n",
       " [122, 123, 141, 143, 161, 162],\n",
       " [123, 124, 142, 144, 162, 163],\n",
       " [124, 125, 143, 145, 163, 164],\n",
       " [125, 126, 144, 146, 164, 165],\n",
       " [126, 127, 145, 147, 165, 166],\n",
       " [127, 128, 146, 148, 166, 167],\n",
       " [128, 129, 147, 149, 167, 168],\n",
       " [129, 130, 148, 150, 168, 169],\n",
       " [130, 131, 149, 151, 169, 170],\n",
       " [131, 132, 150, 152, 170, 171],\n",
       " [132, 133, 151, 153, 171, 172],\n",
       " [133, 134, 152, 154, 172, 173],\n",
       " [134, 135, 153, 155, 173, 174],\n",
       " [135, 136, 154, 156, 174, 175],\n",
       " [136, 137, 155, 157, 175, 176],\n",
       " [137, 138, 156, 158, 176, 177],\n",
       " [138, 139, 157, 159, 177, 178],\n",
       " [120, 139, 140, 158, 178, 179],\n",
       " [140, 141, 161, 179, 180, 199],\n",
       " [141, 142, 160, 162, 180, 181],\n",
       " [142, 143, 161, 163, 181, 182],\n",
       " [143, 144, 162, 164, 182, 183],\n",
       " [144, 145, 163, 165, 183, 184],\n",
       " [145, 146, 164, 166, 184, 185],\n",
       " [146, 147, 165, 167, 185, 186],\n",
       " [147, 148, 166, 168, 186, 187],\n",
       " [148, 149, 167, 169, 187, 188],\n",
       " [149, 150, 168, 170, 188, 189],\n",
       " [150, 151, 169, 171, 189, 190],\n",
       " [151, 152, 170, 172, 190, 191],\n",
       " [152, 153, 171, 173, 191, 192],\n",
       " [153, 154, 172, 174, 192, 193],\n",
       " [154, 155, 173, 175, 193, 194],\n",
       " [155, 156, 174, 176, 194, 195],\n",
       " [156, 157, 175, 177, 195, 196],\n",
       " [157, 158, 176, 178, 196, 197],\n",
       " [158, 159, 177, 179, 197, 198],\n",
       " [140, 159, 160, 178, 198, 199],\n",
       " [160, 161, 181, 199, 200, 219],\n",
       " [161, 162, 180, 182, 200, 201],\n",
       " [162, 163, 181, 183, 201, 202],\n",
       " [163, 164, 182, 184, 202, 203],\n",
       " [164, 165, 183, 185, 203, 204],\n",
       " [165, 166, 184, 186, 204, 205],\n",
       " [166, 167, 185, 187, 205, 206],\n",
       " [167, 168, 186, 188, 206, 207],\n",
       " [168, 169, 187, 189, 207, 208],\n",
       " [169, 170, 188, 190, 208, 209],\n",
       " [170, 171, 189, 191, 209, 210],\n",
       " [171, 172, 190, 192, 210, 211],\n",
       " [172, 173, 191, 193, 211, 212],\n",
       " [173, 174, 192, 194, 212, 213],\n",
       " [174, 175, 193, 195, 213, 214],\n",
       " [175, 176, 194, 196, 214, 215],\n",
       " [176, 177, 195, 197, 215, 216],\n",
       " [177, 178, 196, 198, 216, 217],\n",
       " [178, 179, 197, 199, 217, 218],\n",
       " [160, 179, 180, 198, 218, 219],\n",
       " [180, 181, 201, 219, 220, 239],\n",
       " [181, 182, 200, 202, 220, 221],\n",
       " [182, 183, 201, 203, 221, 222],\n",
       " [183, 184, 202, 204, 222, 223],\n",
       " [184, 185, 203, 205, 223, 224],\n",
       " [185, 186, 204, 206, 224, 225],\n",
       " [186, 187, 205, 207, 225, 226],\n",
       " [187, 188, 206, 208, 226, 227],\n",
       " [188, 189, 207, 209, 227, 228],\n",
       " [189, 190, 208, 210, 228, 229],\n",
       " [190, 191, 209, 211, 229, 230],\n",
       " [191, 192, 210, 212, 230, 231],\n",
       " [192, 193, 211, 213, 231, 232],\n",
       " [193, 194, 212, 214, 232, 233],\n",
       " [194, 195, 213, 215, 233, 234],\n",
       " [195, 196, 214, 216, 234, 235],\n",
       " [196, 197, 215, 217, 235, 236],\n",
       " [197, 198, 216, 218, 236, 237],\n",
       " [198, 199, 217, 219, 237, 238],\n",
       " [180, 199, 200, 218, 238, 239],\n",
       " [200, 201, 221, 239, 240, 259],\n",
       " [201, 202, 220, 222, 240, 241],\n",
       " [202, 203, 221, 223, 241, 242],\n",
       " [203, 204, 222, 224, 242, 243],\n",
       " [204, 205, 223, 225, 243, 244],\n",
       " [205, 206, 224, 226, 244, 245],\n",
       " [206, 207, 225, 227, 245, 246],\n",
       " [207, 208, 226, 228, 246, 247],\n",
       " [208, 209, 227, 229, 247, 248],\n",
       " [209, 210, 228, 230, 248, 249],\n",
       " [210, 211, 229, 231, 249, 250],\n",
       " [211, 212, 230, 232, 250, 251],\n",
       " [212, 213, 231, 233, 251, 252],\n",
       " [213, 214, 232, 234, 252, 253],\n",
       " [214, 215, 233, 235, 253, 254],\n",
       " [215, 216, 234, 236, 254, 255],\n",
       " [216, 217, 235, 237, 255, 256],\n",
       " [217, 218, 236, 238, 256, 257],\n",
       " [218, 219, 237, 239, 257, 258],\n",
       " [200, 219, 220, 238, 258, 259],\n",
       " [220, 221, 241, 259, 260, 279],\n",
       " [221, 222, 240, 242, 260, 261],\n",
       " [222, 223, 241, 243, 261, 262],\n",
       " [223, 224, 242, 244, 262, 263],\n",
       " [224, 225, 243, 245, 263, 264],\n",
       " [225, 226, 244, 246, 264, 265],\n",
       " [226, 227, 245, 247, 265, 266],\n",
       " [227, 228, 246, 248, 266, 267],\n",
       " [228, 229, 247, 249, 267, 268],\n",
       " [229, 230, 248, 250, 268, 269],\n",
       " [230, 231, 249, 251, 269, 270],\n",
       " [231, 232, 250, 252, 270, 271],\n",
       " [232, 233, 251, 253, 271, 272],\n",
       " [233, 234, 252, 254, 272, 273],\n",
       " [234, 235, 253, 255, 273, 274],\n",
       " [235, 236, 254, 256, 274, 275],\n",
       " [236, 237, 255, 257, 275, 276],\n",
       " [237, 238, 256, 258, 276, 277],\n",
       " [238, 239, 257, 259, 277, 278],\n",
       " [220, 239, 240, 258, 278, 279],\n",
       " [240, 241, 261, 279, 280, 299],\n",
       " [241, 242, 260, 262, 280, 281],\n",
       " [242, 243, 261, 263, 281, 282],\n",
       " [243, 244, 262, 264, 282, 283],\n",
       " [244, 245, 263, 265, 283, 284],\n",
       " [245, 246, 264, 266, 284, 285],\n",
       " [246, 247, 265, 267, 285, 286],\n",
       " [247, 248, 266, 268, 286, 287],\n",
       " [248, 249, 267, 269, 287, 288],\n",
       " [249, 250, 268, 270, 288, 289],\n",
       " [250, 251, 269, 271, 289, 290],\n",
       " [251, 252, 270, 272, 290, 291],\n",
       " [252, 253, 271, 273, 291, 292],\n",
       " [253, 254, 272, 274, 292, 293],\n",
       " [254, 255, 273, 275, 293, 294],\n",
       " [255, 256, 274, 276, 294, 295],\n",
       " [256, 257, 275, 277, 295, 296],\n",
       " [257, 258, 276, 278, 296, 297],\n",
       " [258, 259, 277, 279, 297, 298],\n",
       " [240, 259, 260, 278, 298, 299],\n",
       " [260, 261, 281, 299, 300, 319],\n",
       " [261, 262, 280, 282, 300, 301],\n",
       " [262, 263, 281, 283, 301, 302],\n",
       " [263, 264, 282, 284, 302, 303],\n",
       " [264, 265, 283, 285, 303, 304],\n",
       " [265, 266, 284, 286, 304, 305],\n",
       " [266, 267, 285, 287, 305, 306],\n",
       " [267, 268, 286, 288, 306, 307],\n",
       " [268, 269, 287, 289, 307, 308],\n",
       " [269, 270, 288, 290, 308, 309],\n",
       " [270, 271, 289, 291, 309, 310],\n",
       " [271, 272, 290, 292, 310, 311],\n",
       " [272, 273, 291, 293, 311, 312],\n",
       " [273, 274, 292, 294, 312, 313],\n",
       " [274, 275, 293, 295, 313, 314],\n",
       " [275, 276, 294, 296, 314, 315],\n",
       " [276, 277, 295, 297, 315, 316],\n",
       " [277, 278, 296, 298, 316, 317],\n",
       " [278, 279, 297, 299, 317, 318],\n",
       " [260, 279, 280, 298, 318, 319],\n",
       " [280, 281, 301, 319, 320, 339],\n",
       " [281, 282, 300, 302, 320, 321],\n",
       " [282, 283, 301, 303, 321, 322],\n",
       " [283, 284, 302, 304, 322, 323],\n",
       " [284, 285, 303, 305, 323, 324],\n",
       " [285, 286, 304, 306, 324, 325],\n",
       " [286, 287, 305, 307, 325, 326],\n",
       " [287, 288, 306, 308, 326, 327],\n",
       " [288, 289, 307, 309, 327, 328],\n",
       " [289, 290, 308, 310, 328, 329],\n",
       " [290, 291, 309, 311, 329, 330],\n",
       " [291, 292, 310, 312, 330, 331],\n",
       " [292, 293, 311, 313, 331, 332],\n",
       " [293, 294, 312, 314, 332, 333],\n",
       " [294, 295, 313, 315, 333, 334],\n",
       " [295, 296, 314, 316, 334, 335],\n",
       " [296, 297, 315, 317, 335, 336],\n",
       " [297, 298, 316, 318, 336, 337],\n",
       " [298, 299, 317, 319, 337, 338],\n",
       " [280, 299, 300, 318, 338, 339],\n",
       " [300, 301, 321, 339, 340, 359],\n",
       " [301, 302, 320, 322, 340, 341],\n",
       " [302, 303, 321, 323, 341, 342],\n",
       " [303, 304, 322, 324, 342, 343],\n",
       " [304, 305, 323, 325, 343, 344],\n",
       " [305, 306, 324, 326, 344, 345],\n",
       " [306, 307, 325, 327, 345, 346],\n",
       " [307, 308, 326, 328, 346, 347],\n",
       " [308, 309, 327, 329, 347, 348],\n",
       " [309, 310, 328, 330, 348, 349],\n",
       " [310, 311, 329, 331, 349, 350],\n",
       " [311, 312, 330, 332, 350, 351],\n",
       " [312, 313, 331, 333, 351, 352],\n",
       " [313, 314, 332, 334, 352, 353],\n",
       " [314, 315, 333, 335, 353, 354],\n",
       " [315, 316, 334, 336, 354, 355],\n",
       " [316, 317, 335, 337, 355, 356],\n",
       " [317, 318, 336, 338, 356, 357],\n",
       " [318, 319, 337, 339, 357, 358],\n",
       " [300, 319, 320, 338, 358, 359],\n",
       " [320, 321, 341, 359, 360, 379],\n",
       " [321, 322, 340, 342, 360, 361],\n",
       " [322, 323, 341, 343, 361, 362],\n",
       " [323, 324, 342, 344, 362, 363],\n",
       " [324, 325, 343, 345, 363, 364],\n",
       " [325, 326, 344, 346, 364, 365],\n",
       " [326, 327, 345, 347, 365, 366],\n",
       " [327, 328, 346, 348, 366, 367],\n",
       " [328, 329, 347, 349, 367, 368],\n",
       " [329, 330, 348, 350, 368, 369],\n",
       " [330, 331, 349, 351, 369, 370],\n",
       " [331, 332, 350, 352, 370, 371],\n",
       " [332, 333, 351, 353, 371, 372],\n",
       " [333, 334, 352, 354, 372, 373],\n",
       " [334, 335, 353, 355, 373, 374],\n",
       " [335, 336, 354, 356, 374, 375],\n",
       " [336, 337, 355, 357, 375, 376],\n",
       " [337, 338, 356, 358, 376, 377],\n",
       " [338, 339, 357, 359, 377, 378],\n",
       " [320, 339, 340, 358, 378, 379],\n",
       " [340, 341, 361, 379, 381],\n",
       " [341, 342, 360, 362, 381],\n",
       " [342, 343, 361, 363, 381],\n",
       " [343, 344, 362, 364, 381],\n",
       " [344, 345, 363, 365, 381],\n",
       " [345, 346, 364, 366, 381],\n",
       " [346, 347, 365, 367, 381],\n",
       " [347, 348, 366, 368, 381],\n",
       " [348, 349, 367, 369, 381],\n",
       " [349, 350, 368, 370, 381],\n",
       " [350, 351, 369, 371, 381],\n",
       " [351, 352, 370, 372, 381],\n",
       " [352, 353, 371, 373, 381],\n",
       " [353, 354, 372, 374, 381],\n",
       " [354, 355, 373, 375, 381],\n",
       " [355, 356, 374, 376, 381],\n",
       " [356, 357, 375, 377, 381],\n",
       " [357, 358, 376, 378, 381],\n",
       " [358, 359, 377, 379, 381],\n",
       " [340, 359, 360, 378, 381],\n",
       " [0, 1, 2, 3, 4, 5, 6, 7, 8, 9, 10, 11, 12, 13, 14, 15, 16, 17, 18, 19],\n",
       " [360,\n",
       "  361,\n",
       "  362,\n",
       "  363,\n",
       "  364,\n",
       "  365,\n",
       "  366,\n",
       "  367,\n",
       "  368,\n",
       "  369,\n",
       "  370,\n",
       "  371,\n",
       "  372,\n",
       "  373,\n",
       "  374,\n",
       "  375,\n",
       "  376,\n",
       "  377,\n",
       "  378,\n",
       "  379]]"
      ]
     },
     "execution_count": 624,
     "metadata": {},
     "output_type": "execute_result"
    }
   ],
   "source": [
    "# using igl.adjacency_list, determine the list of adjacent vertices for each vertex\n",
    "# It is important to use the newly created F_double_prime as the input\n",
    "#?igl.adjacency_list\n",
    "adj_vertices=igl.adjacency_list(f)\n",
    "adj_vertices"
   ]
  },
  {
   "cell_type": "code",
   "execution_count": 625,
   "metadata": {},
   "outputs": [
    {
     "data": {
      "text/plain": [
       "array([ 0.088591, -0.691382, -0.064365])"
      ]
     },
     "execution_count": 625,
     "metadata": {},
     "output_type": "execute_result"
    }
   ],
   "source": [
    "v_double_prime[adj_vertices[0][0]]"
   ]
  },
  {
   "cell_type": "code",
   "execution_count": 627,
   "metadata": {},
   "outputs": [
    {
     "data": {
      "text/plain": [
       "(array([[ 1.11615913e-01, -6.35567085e-01, -3.09841698e-02],\n",
       "        [ 9.65784522e-02, -6.35567085e-01, -6.39587131e-02],\n",
       "        [ 7.20871557e-02, -6.35567085e-01, -9.06727880e-02],\n",
       "        ...,\n",
       "        [ 1.15727344e-01,  6.35567085e-01, -5.02364747e-03],\n",
       "        [-1.27626119e-03, -6.89933150e-01, -1.05133998e-18],\n",
       "        [-1.27626119e-03,  6.89933150e-01, -1.05133998e-18]]),\n",
       " (382, 3),\n",
       " array([[ 0.104145, -0.691382, -0.033839],\n",
       "        [ 0.088591, -0.691382, -0.064365],\n",
       "        [ 0.064365, -0.691382, -0.088591],\n",
       "        ...,\n",
       "        [ 0.109504,  0.691382,  0.      ],\n",
       "        [ 0.      , -0.7     ,  0.      ],\n",
       "        [ 0.      ,  0.7     ,  0.      ]]),\n",
       " (382, 3))"
      ]
     },
     "execution_count": 627,
     "metadata": {},
     "output_type": "execute_result"
    }
   ],
   "source": [
    "# move each vertex v in the old vertices V to a new position p\n",
    "p=np.zeros(v.shape)\n",
    "\n",
    "for i in range(v.shape[0]):\n",
    "    'Move each vertex v of old vertices V to new position p'\n",
    "    # determine the valence of the ith vertex\n",
    "    n=len(adj_vertices[i])\n",
    "    v_j=np.zeros([1, 3])\n",
    "    \n",
    "    for j in range(n-1):\n",
    "        'Sum of v_j'\n",
    "        #print('v_',j,':', v_j)\n",
    "        #print('v:',v[adj_vertices[i][j]])\n",
    "        v_j+=v[adj_vertices[i][j]]\n",
    "    #print('i:',i, v_j)\n",
    "    #print(v_j)\n",
    "        \n",
    "    a_n=(4-2*np.cos(2*np.pi/n))/9\n",
    "    #print(a_n)\n",
    "    #part_1 = (1-a_n)*v[i]\n",
    "    #print ('part_1:', part_1)\n",
    "    #part_2 = (a_n/n)*v_j\n",
    "    #print('part_2:',part_2)\n",
    "    \n",
    "    p[i]=(1-a_n)*v[i]+(a_n/n)*v_j\n",
    "    \n",
    "p, p.shape, v, v.shape"
   ]
  },
  {
   "cell_type": "code",
   "execution_count": 628,
   "metadata": {},
   "outputs": [
    {
     "data": {
      "text/plain": [
       "(array([[ 0.11161591, -0.63556709, -0.03098417],\n",
       "        [ 0.09657845, -0.63556709, -0.06395871],\n",
       "        [ 0.07208716, -0.63556709, -0.09067279],\n",
       "        ...,\n",
       "        [ 0.06424533,  0.69425467,  0.03273467],\n",
       "        [ 0.07121633,  0.69425467,  0.01127967],\n",
       "        [ 0.07121633,  0.69425467, -0.01127967]]),\n",
       " (1142, 3),\n",
       " array([[ 0.104145  , -0.691382  , -0.033839  ],\n",
       "        [ 0.088591  , -0.691382  , -0.064365  ],\n",
       "        [ 0.064365  , -0.691382  , -0.088591  ],\n",
       "        ...,\n",
       "        [ 0.06424533,  0.69425467,  0.03273467],\n",
       "        [ 0.07121633,  0.69425467,  0.01127967],\n",
       "        [ 0.07121633,  0.69425467, -0.01127967]]),\n",
       " (1142, 3))"
      ]
     },
     "execution_count": 628,
     "metadata": {},
     "output_type": "execute_result"
    }
   ],
   "source": [
    "# create new V for newly transposed vertices to V and M, to make V'\n",
    "v_prime=np.vstack((p, m_f))\n",
    "v_prime, v_prime.shape, v_double_prime, v_double_prime.shape"
   ]
  },
  {
   "cell_type": "code",
   "execution_count": 629,
   "metadata": {},
   "outputs": [
    {
     "data": {
      "application/vnd.jupyter.widget-view+json": {
       "model_id": "81c722bafd1540f4a47b0521f7cbd6d2",
       "version_major": 2,
       "version_minor": 0
      },
      "text/plain": [
       "Renderer(camera=PerspectiveCamera(children=(DirectionalLight(color='white', intensity=0.6, position=(0.0, 0.0,…"
      ]
     },
     "metadata": {},
     "output_type": "display_data"
    }
   ],
   "source": [
    "plot=meshplot.plot(v_prime, f_double_prime, shading={\"flat\": False, \"wireframe\": True})"
   ]
  },
  {
   "cell_type": "code",
   "execution_count": 630,
   "metadata": {},
   "outputs": [],
   "source": [
    "# Flip the original edges\n",
    "#?igl.triangle_triangle_adjacency"
   ]
  },
  {
   "cell_type": "code",
   "execution_count": 631,
   "metadata": {},
   "outputs": [
    {
     "data": {
      "text/plain": [
       "(array([[720,   1,  39],\n",
       "        [  0,   2,  40],\n",
       "        [721,   3,   1],\n",
       "        ...,\n",
       "        [715, 758, 756],\n",
       "        [717, 759, 757],\n",
       "        [719, 740, 758]], dtype=int32), (760, 3))"
      ]
     },
     "execution_count": 631,
     "metadata": {},
     "output_type": "execute_result"
    }
   ],
   "source": [
    "# First find the triangle_triangle_adjacency to determine which edge to flip\n",
    "TT, TTi=igl.triangle_triangle_adjacency(f)\n",
    "TT, TT.shape"
   ]
  },
  {
   "cell_type": "code",
   "execution_count": 632,
   "metadata": {},
   "outputs": [],
   "source": [
    "#?igl.edge_topology"
   ]
  },
  {
   "cell_type": "code",
   "execution_count": 633,
   "metadata": {},
   "outputs": [
    {
     "data": {
      "text/plain": [
       "(array([[  0,   1],\n",
       "        [  0,  19],\n",
       "        [  0,  20],\n",
       "        ...,\n",
       "        [378, 379],\n",
       "        [378, 381],\n",
       "        [379, 381]], dtype=int32), 1140, array([[   0,    6,    2],\n",
       "        [   6,    7,   80],\n",
       "        [   5,   10,    7],\n",
       "        ...,\n",
       "        [1135, 1138, 1136],\n",
       "        [1137, 1139, 1138],\n",
       "        [1101, 1102, 1139]], dtype=int32), 760)"
      ]
     },
     "execution_count": 633,
     "metadata": {},
     "output_type": "execute_result"
    }
   ],
   "source": [
    "# Get original edges\n",
    "ev, fe, ef=igl.edge_topology(v, f)\n",
    "ev, len(ev), fe, len(fe)"
   ]
  },
  {
   "cell_type": "code",
   "execution_count": 634,
   "metadata": {},
   "outputs": [
    {
     "data": {
      "text/plain": [
       "(array([[   0,    1,  382],\n",
       "        [   0,   20,  382],\n",
       "        [   1,   20,  382],\n",
       "        ...,\n",
       "        [ 379,  360, 1141],\n",
       "        [ 379,  381, 1141],\n",
       "        [ 360,  381, 1141]]), (2280, 3))"
      ]
     },
     "execution_count": 634,
     "metadata": {},
     "output_type": "execute_result"
    }
   ],
   "source": [
    "f_double_prime, f_double_prime.shape"
   ]
  },
  {
   "cell_type": "code",
   "execution_count": 635,
   "metadata": {
    "scrolled": false
   },
   "outputs": [
    {
     "data": {
      "text/plain": [
       "(array([[   0,  382, 1102],\n",
       "        [   1,  382, 1102],\n",
       "        [   1,  382,  383],\n",
       "        ...,\n",
       "        [ 381, 1139, 1140],\n",
       "        [ 379, 1140, 1141],\n",
       "        [ 381, 1140, 1141]]), (2280, 3))"
      ]
     },
     "execution_count": 635,
     "metadata": {},
     "output_type": "execute_result"
    }
   ],
   "source": [
    "# Create a boolean list to track which edges are already flipped\n",
    "flipped=np.zeros(len(ev), dtype=int)\n",
    "\n",
    "# Replace F'' with new set of Faces, to make F'\n",
    "f_prime=np.zeros(f_double_prime.shape, dtype=int)\n",
    "index=0\n",
    "iter_size=f.shape[0]\n",
    "\n",
    "for i in range(f.shape[0]):\n",
    "    'Iterate through each face, find the edges in ev using fe,'\n",
    "    for j in range(3):\n",
    "        'Iterate through each edge in a face, flip it, then save the two resulting faces'\n",
    "        \n",
    "        edge=fe[i][j] #edge j in face i\n",
    "        \n",
    "        if (flipped[edge] == 0):\n",
    "            flipped[edge]=1\n",
    "            \n",
    "            vertex_0=ev[edge][0] # Vertex 0 of the edge\n",
    "            vertex_1=ev[edge][1] # Vertex 1 of the edge \n",
    "\n",
    "            adj_id=TT[i][j] # id of face adjacent to face i\n",
    "\n",
    "            f_prime[index]=[vertex_0, v.shape[0]+i, v.shape[0]+adj_id]\n",
    "            f_prime[index+1]=[vertex_1, v.shape[0]+i, v.shape[0]+adj_id]\n",
    "\n",
    "            #print('index:', index, 'j:', j, 'i:', i)\n",
    "\n",
    "            index+=2\n",
    "            \n",
    "f_prime, f_prime.shape"
   ]
  },
  {
   "cell_type": "code",
   "execution_count": 636,
   "metadata": {},
   "outputs": [
    {
     "data": {
      "application/vnd.jupyter.widget-view+json": {
       "model_id": "b2d372778dbd47abb3a2cbcf433e343b",
       "version_major": 2,
       "version_minor": 0
      },
      "text/plain": [
       "Renderer(camera=PerspectiveCamera(children=(DirectionalLight(color='white', intensity=0.6, position=(0.0, 0.0,…"
      ]
     },
     "metadata": {},
     "output_type": "display_data"
    }
   ],
   "source": [
    "plot=meshplot.plot(v_prime, f_prime, shading={\"flat\": False, \"wireframe\": True})"
   ]
  },
  {
   "cell_type": "markdown",
   "metadata": {},
   "source": [
    "## Concluding thoughts"
   ]
  },
  {
   "cell_type": "markdown",
   "metadata": {},
   "source": [
    "This last one didn't turn out like I hoped. I believe there is a problem with my calculation of v_prime. It looks like the original vertices \"sucked in\" so that they caused a concave look connecting to the M vertices. I am excited to learn what I did wrong and fix this, it seems really cool! "
   ]
  }
 ],
 "metadata": {
  "kernelspec": {
   "display_name": "Python 3",
   "language": "python",
   "name": "python3"
  },
  "language_info": {
   "codemirror_mode": {
    "name": "ipython",
    "version": 3
   },
   "file_extension": ".py",
   "mimetype": "text/x-python",
   "name": "python",
   "nbconvert_exporter": "python",
   "pygments_lexer": "ipython3",
   "version": "3.7.0"
  }
 },
 "nbformat": 4,
 "nbformat_minor": 4
}
